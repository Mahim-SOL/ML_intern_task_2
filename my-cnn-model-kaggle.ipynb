{
 "cells": [
  {
   "cell_type": "code",
   "execution_count": 1,
   "id": "2e83ce2a",
   "metadata": {
    "execution": {
     "iopub.execute_input": "2024-04-04T09:06:49.243581Z",
     "iopub.status.busy": "2024-04-04T09:06:49.242700Z",
     "iopub.status.idle": "2024-04-04T09:07:33.117149Z",
     "shell.execute_reply": "2024-04-04T09:07:33.115997Z"
    },
    "papermill": {
     "duration": 43.885421,
     "end_time": "2024-04-04T09:07:33.119998",
     "exception": false,
     "start_time": "2024-04-04T09:06:49.234577",
     "status": "completed"
    },
    "tags": []
   },
   "outputs": [
    {
     "name": "stdout",
     "output_type": "stream",
     "text": [
      "Requirement already satisfied: h5py in /opt/conda/lib/python3.10/site-packages (3.10.0)\r\n",
      "Requirement already satisfied: numpy>=1.17.3 in /opt/conda/lib/python3.10/site-packages (from h5py) (1.26.4)\r\n",
      "Requirement already satisfied: typing-extensions in /opt/conda/lib/python3.10/site-packages (4.9.0)\r\n",
      "Requirement already satisfied: wheel in /opt/conda/lib/python3.10/site-packages (0.42.0)\r\n"
     ]
    }
   ],
   "source": [
    "!pip install h5py\n",
    "!pip install typing-extensions\n",
    "!pip install wheel"
   ]
  },
  {
   "cell_type": "code",
   "execution_count": 2,
   "id": "52c89c38",
   "metadata": {
    "execution": {
     "iopub.execute_input": "2024-04-04T09:07:33.136714Z",
     "iopub.status.busy": "2024-04-04T09:07:33.136317Z",
     "iopub.status.idle": "2024-04-04T09:10:02.072733Z",
     "shell.execute_reply": "2024-04-04T09:10:02.071535Z"
    },
    "papermill": {
     "duration": 148.94738,
     "end_time": "2024-04-04T09:10:02.075326",
     "exception": false,
     "start_time": "2024-04-04T09:07:33.127946",
     "status": "completed"
    },
    "tags": []
   },
   "outputs": [
    {
     "name": "stdout",
     "output_type": "stream",
     "text": [
      "Requirement already satisfied: tensorflow[and-cuda] in /opt/conda/lib/python3.10/site-packages (2.15.0)\r\n",
      "Requirement already satisfied: absl-py>=1.0.0 in /opt/conda/lib/python3.10/site-packages (from tensorflow[and-cuda]) (1.4.0)\r\n",
      "Requirement already satisfied: astunparse>=1.6.0 in /opt/conda/lib/python3.10/site-packages (from tensorflow[and-cuda]) (1.6.3)\r\n",
      "Requirement already satisfied: flatbuffers>=23.5.26 in /opt/conda/lib/python3.10/site-packages (from tensorflow[and-cuda]) (23.5.26)\r\n",
      "Requirement already satisfied: gast!=0.5.0,!=0.5.1,!=0.5.2,>=0.2.1 in /opt/conda/lib/python3.10/site-packages (from tensorflow[and-cuda]) (0.5.4)\r\n",
      "Requirement already satisfied: google-pasta>=0.1.1 in /opt/conda/lib/python3.10/site-packages (from tensorflow[and-cuda]) (0.2.0)\r\n",
      "Requirement already satisfied: h5py>=2.9.0 in /opt/conda/lib/python3.10/site-packages (from tensorflow[and-cuda]) (3.10.0)\r\n",
      "Requirement already satisfied: libclang>=13.0.0 in /opt/conda/lib/python3.10/site-packages (from tensorflow[and-cuda]) (16.0.6)\r\n",
      "Requirement already satisfied: ml-dtypes~=0.2.0 in /opt/conda/lib/python3.10/site-packages (from tensorflow[and-cuda]) (0.2.0)\r\n",
      "Requirement already satisfied: numpy<2.0.0,>=1.23.5 in /opt/conda/lib/python3.10/site-packages (from tensorflow[and-cuda]) (1.26.4)\r\n",
      "Requirement already satisfied: opt-einsum>=2.3.2 in /opt/conda/lib/python3.10/site-packages (from tensorflow[and-cuda]) (3.3.0)\r\n",
      "Requirement already satisfied: packaging in /opt/conda/lib/python3.10/site-packages (from tensorflow[and-cuda]) (21.3)\r\n",
      "Requirement already satisfied: protobuf!=4.21.0,!=4.21.1,!=4.21.2,!=4.21.3,!=4.21.4,!=4.21.5,<5.0.0dev,>=3.20.3 in /opt/conda/lib/python3.10/site-packages (from tensorflow[and-cuda]) (3.20.3)\r\n",
      "Requirement already satisfied: setuptools in /opt/conda/lib/python3.10/site-packages (from tensorflow[and-cuda]) (69.0.3)\r\n",
      "Requirement already satisfied: six>=1.12.0 in /opt/conda/lib/python3.10/site-packages (from tensorflow[and-cuda]) (1.16.0)\r\n",
      "Requirement already satisfied: termcolor>=1.1.0 in /opt/conda/lib/python3.10/site-packages (from tensorflow[and-cuda]) (2.4.0)\r\n",
      "Requirement already satisfied: typing-extensions>=3.6.6 in /opt/conda/lib/python3.10/site-packages (from tensorflow[and-cuda]) (4.9.0)\r\n",
      "Requirement already satisfied: wrapt<1.15,>=1.11.0 in /opt/conda/lib/python3.10/site-packages (from tensorflow[and-cuda]) (1.14.1)\r\n",
      "Requirement already satisfied: tensorflow-io-gcs-filesystem>=0.23.1 in /opt/conda/lib/python3.10/site-packages (from tensorflow[and-cuda]) (0.35.0)\r\n",
      "Requirement already satisfied: grpcio<2.0,>=1.24.3 in /opt/conda/lib/python3.10/site-packages (from tensorflow[and-cuda]) (1.51.1)\r\n",
      "Requirement already satisfied: tensorboard<2.16,>=2.15 in /opt/conda/lib/python3.10/site-packages (from tensorflow[and-cuda]) (2.15.1)\r\n",
      "Requirement already satisfied: tensorflow-estimator<2.16,>=2.15.0 in /opt/conda/lib/python3.10/site-packages (from tensorflow[and-cuda]) (2.15.0)\r\n",
      "Collecting keras<2.16,>=2.15.0 (from tensorflow[and-cuda])\r\n",
      "  Downloading keras-2.15.0-py3-none-any.whl.metadata (2.4 kB)\r\n",
      "Collecting nvidia-cublas-cu12==12.2.5.6 (from tensorflow[and-cuda])\r\n",
      "  Downloading nvidia_cublas_cu12-12.2.5.6-py3-none-manylinux1_x86_64.whl.metadata (1.5 kB)\r\n",
      "Collecting nvidia-cuda-cupti-cu12==12.2.142 (from tensorflow[and-cuda])\r\n",
      "  Downloading nvidia_cuda_cupti_cu12-12.2.142-py3-none-manylinux1_x86_64.whl.metadata (1.6 kB)\r\n",
      "Collecting nvidia-cuda-nvcc-cu12==12.2.140 (from tensorflow[and-cuda])\r\n",
      "  Downloading nvidia_cuda_nvcc_cu12-12.2.140-py3-none-manylinux1_x86_64.whl.metadata (1.5 kB)\r\n",
      "Collecting nvidia-cuda-nvrtc-cu12==12.2.140 (from tensorflow[and-cuda])\r\n",
      "  Downloading nvidia_cuda_nvrtc_cu12-12.2.140-py3-none-manylinux1_x86_64.whl.metadata (1.5 kB)\r\n",
      "Collecting nvidia-cuda-runtime-cu12==12.2.140 (from tensorflow[and-cuda])\r\n",
      "  Downloading nvidia_cuda_runtime_cu12-12.2.140-py3-none-manylinux1_x86_64.whl.metadata (1.5 kB)\r\n",
      "Collecting nvidia-cudnn-cu12==8.9.4.25 (from tensorflow[and-cuda])\r\n",
      "  Downloading nvidia_cudnn_cu12-8.9.4.25-py3-none-manylinux1_x86_64.whl.metadata (1.6 kB)\r\n",
      "Collecting nvidia-cufft-cu12==11.0.8.103 (from tensorflow[and-cuda])\r\n",
      "  Downloading nvidia_cufft_cu12-11.0.8.103-py3-none-manylinux1_x86_64.whl.metadata (1.5 kB)\r\n",
      "Collecting nvidia-curand-cu12==10.3.3.141 (from tensorflow[and-cuda])\r\n",
      "  Downloading nvidia_curand_cu12-10.3.3.141-py3-none-manylinux1_x86_64.whl.metadata (1.5 kB)\r\n",
      "Collecting nvidia-cusolver-cu12==11.5.2.141 (from tensorflow[and-cuda])\r\n",
      "  Downloading nvidia_cusolver_cu12-11.5.2.141-py3-none-manylinux1_x86_64.whl.metadata (1.6 kB)\r\n",
      "Collecting nvidia-cusparse-cu12==12.1.2.141 (from tensorflow[and-cuda])\r\n",
      "  Downloading nvidia_cusparse_cu12-12.1.2.141-py3-none-manylinux1_x86_64.whl.metadata (1.6 kB)\r\n",
      "Collecting nvidia-nccl-cu12==2.16.5 (from tensorflow[and-cuda])\r\n",
      "  Downloading nvidia_nccl_cu12-2.16.5-py3-none-manylinux1_x86_64.whl.metadata (1.8 kB)\r\n",
      "Collecting nvidia-nvjitlink-cu12==12.2.140 (from tensorflow[and-cuda])\r\n",
      "  Downloading nvidia_nvjitlink_cu12-12.2.140-py3-none-manylinux1_x86_64.whl.metadata (1.5 kB)\r\n",
      "Collecting tensorrt==8.6.1.post1 (from tensorflow[and-cuda])\r\n",
      "  Downloading tensorrt-8.6.1.post1.tar.gz (18 kB)\r\n",
      "  Preparing metadata (setup.py) ... \u001b[?25l-\b \b\\\b \bdone\r\n",
      "\u001b[?25hCollecting tensorrt-bindings==8.6.1 (from tensorflow[and-cuda])\r\n",
      "  Downloading tensorrt_bindings-8.6.1-cp310-none-manylinux_2_17_x86_64.whl.metadata (621 bytes)\r\n",
      "INFO: pip is looking at multiple versions of tensorflow[and-cuda] to determine which version is compatible with other requirements. This could take a while.\r\n",
      "Collecting tensorflow[and-cuda]\r\n",
      "  Downloading tensorflow-2.16.1-cp310-cp310-manylinux_2_17_x86_64.manylinux2014_x86_64.whl.metadata (4.3 kB)\r\n",
      "Collecting ml-dtypes~=0.3.1 (from tensorflow[and-cuda])\r\n",
      "  Downloading ml_dtypes-0.3.2-cp310-cp310-manylinux_2_17_x86_64.manylinux2014_x86_64.whl.metadata (20 kB)\r\n",
      "Requirement already satisfied: requests<3,>=2.21.0 in /opt/conda/lib/python3.10/site-packages (from tensorflow[and-cuda]) (2.31.0)\r\n",
      "Collecting tensorboard<2.17,>=2.16 (from tensorflow[and-cuda])\r\n",
      "  Downloading tensorboard-2.16.2-py3-none-any.whl.metadata (1.6 kB)\r\n",
      "Requirement already satisfied: keras>=3.0.0 in /opt/conda/lib/python3.10/site-packages (from tensorflow[and-cuda]) (3.0.5)\r\n",
      "Collecting nvidia-cublas-cu12==12.3.4.1 (from tensorflow[and-cuda])\r\n",
      "  Downloading nvidia_cublas_cu12-12.3.4.1-py3-none-manylinux1_x86_64.whl.metadata (1.5 kB)\r\n",
      "Collecting nvidia-cuda-cupti-cu12==12.3.101 (from tensorflow[and-cuda])\r\n",
      "  Downloading nvidia_cuda_cupti_cu12-12.3.101-py3-none-manylinux1_x86_64.whl.metadata (1.6 kB)\r\n",
      "Collecting nvidia-cuda-nvcc-cu12==12.3.107 (from tensorflow[and-cuda])\r\n",
      "  Downloading nvidia_cuda_nvcc_cu12-12.3.107-py3-none-manylinux1_x86_64.whl.metadata (1.5 kB)\r\n",
      "Collecting nvidia-cuda-nvrtc-cu12==12.3.107 (from tensorflow[and-cuda])\r\n",
      "  Downloading nvidia_cuda_nvrtc_cu12-12.3.107-py3-none-manylinux1_x86_64.whl.metadata (1.5 kB)\r\n",
      "Collecting nvidia-cuda-runtime-cu12==12.3.101 (from tensorflow[and-cuda])\r\n",
      "  Downloading nvidia_cuda_runtime_cu12-12.3.101-py3-none-manylinux1_x86_64.whl.metadata (1.5 kB)\r\n",
      "Collecting nvidia-cudnn-cu12==8.9.7.29 (from tensorflow[and-cuda])\r\n",
      "  Downloading nvidia_cudnn_cu12-8.9.7.29-py3-none-manylinux1_x86_64.whl.metadata (1.6 kB)\r\n",
      "Collecting nvidia-cufft-cu12==11.0.12.1 (from tensorflow[and-cuda])\r\n",
      "  Downloading nvidia_cufft_cu12-11.0.12.1-py3-none-manylinux1_x86_64.whl.metadata (1.5 kB)\r\n",
      "Collecting nvidia-curand-cu12==10.3.4.107 (from tensorflow[and-cuda])\r\n",
      "  Downloading nvidia_curand_cu12-10.3.4.107-py3-none-manylinux1_x86_64.whl.metadata (1.5 kB)\r\n",
      "Collecting nvidia-cusolver-cu12==11.5.4.101 (from tensorflow[and-cuda])\r\n",
      "  Downloading nvidia_cusolver_cu12-11.5.4.101-py3-none-manylinux1_x86_64.whl.metadata (1.6 kB)\r\n",
      "Collecting nvidia-cusparse-cu12==12.2.0.103 (from tensorflow[and-cuda])\r\n",
      "  Downloading nvidia_cusparse_cu12-12.2.0.103-py3-none-manylinux1_x86_64.whl.metadata (1.6 kB)\r\n",
      "Collecting nvidia-nccl-cu12==2.19.3 (from tensorflow[and-cuda])\r\n",
      "  Downloading nvidia_nccl_cu12-2.19.3-py3-none-manylinux1_x86_64.whl.metadata (1.8 kB)\r\n",
      "Collecting nvidia-nvjitlink-cu12==12.3.101 (from tensorflow[and-cuda])\r\n",
      "  Downloading nvidia_nvjitlink_cu12-12.3.101-py3-none-manylinux1_x86_64.whl.metadata (1.5 kB)\r\n",
      "Requirement already satisfied: wheel<1.0,>=0.23.0 in /opt/conda/lib/python3.10/site-packages (from astunparse>=1.6.0->tensorflow[and-cuda]) (0.42.0)\r\n",
      "Requirement already satisfied: rich in /opt/conda/lib/python3.10/site-packages (from keras>=3.0.0->tensorflow[and-cuda]) (13.7.0)\r\n",
      "Requirement already satisfied: namex in /opt/conda/lib/python3.10/site-packages (from keras>=3.0.0->tensorflow[and-cuda]) (0.0.7)\r\n",
      "Requirement already satisfied: dm-tree in /opt/conda/lib/python3.10/site-packages (from keras>=3.0.0->tensorflow[and-cuda]) (0.1.8)\r\n",
      "Requirement already satisfied: charset-normalizer<4,>=2 in /opt/conda/lib/python3.10/site-packages (from requests<3,>=2.21.0->tensorflow[and-cuda]) (3.3.2)\r\n",
      "Requirement already satisfied: idna<4,>=2.5 in /opt/conda/lib/python3.10/site-packages (from requests<3,>=2.21.0->tensorflow[and-cuda]) (3.6)\r\n",
      "Requirement already satisfied: urllib3<3,>=1.21.1 in /opt/conda/lib/python3.10/site-packages (from requests<3,>=2.21.0->tensorflow[and-cuda]) (1.26.18)\r\n",
      "Requirement already satisfied: certifi>=2017.4.17 in /opt/conda/lib/python3.10/site-packages (from requests<3,>=2.21.0->tensorflow[and-cuda]) (2024.2.2)\r\n",
      "Requirement already satisfied: markdown>=2.6.8 in /opt/conda/lib/python3.10/site-packages (from tensorboard<2.17,>=2.16->tensorflow[and-cuda]) (3.5.2)\r\n",
      "Requirement already satisfied: tensorboard-data-server<0.8.0,>=0.7.0 in /opt/conda/lib/python3.10/site-packages (from tensorboard<2.17,>=2.16->tensorflow[and-cuda]) (0.7.2)\r\n",
      "Requirement already satisfied: werkzeug>=1.0.1 in /opt/conda/lib/python3.10/site-packages (from tensorboard<2.17,>=2.16->tensorflow[and-cuda]) (3.0.1)\r\n",
      "Requirement already satisfied: pyparsing!=3.0.5,>=2.0.2 in /opt/conda/lib/python3.10/site-packages (from packaging->tensorflow[and-cuda]) (3.1.1)\r\n",
      "Requirement already satisfied: MarkupSafe>=2.1.1 in /opt/conda/lib/python3.10/site-packages (from werkzeug>=1.0.1->tensorboard<2.17,>=2.16->tensorflow[and-cuda]) (2.1.3)\r\n",
      "Requirement already satisfied: markdown-it-py>=2.2.0 in /opt/conda/lib/python3.10/site-packages (from rich->keras>=3.0.0->tensorflow[and-cuda]) (3.0.0)\r\n",
      "Requirement already satisfied: pygments<3.0.0,>=2.13.0 in /opt/conda/lib/python3.10/site-packages (from rich->keras>=3.0.0->tensorflow[and-cuda]) (2.17.2)\r\n",
      "Requirement already satisfied: mdurl~=0.1 in /opt/conda/lib/python3.10/site-packages (from markdown-it-py>=2.2.0->rich->keras>=3.0.0->tensorflow[and-cuda]) (0.1.2)\r\n",
      "Downloading nvidia_cublas_cu12-12.3.4.1-py3-none-manylinux1_x86_64.whl (412.6 MB)\r\n",
      "\u001b[2K   \u001b[90m━━━━━━━━━━━━━━━━━━━━━━━━━━━━━━━━━━━━━━━━\u001b[0m \u001b[32m412.6/412.6 MB\u001b[0m \u001b[31m3.5 MB/s\u001b[0m eta \u001b[36m0:00:00\u001b[0m\r\n",
      "\u001b[?25hDownloading nvidia_cuda_cupti_cu12-12.3.101-py3-none-manylinux1_x86_64.whl (14.0 MB)\r\n",
      "\u001b[2K   \u001b[90m━━━━━━━━━━━━━━━━━━━━━━━━━━━━━━━━━━━━━━━━\u001b[0m \u001b[32m14.0/14.0 MB\u001b[0m \u001b[31m74.6 MB/s\u001b[0m eta \u001b[36m0:00:00\u001b[0m\r\n",
      "\u001b[?25hDownloading nvidia_cuda_nvcc_cu12-12.3.107-py3-none-manylinux1_x86_64.whl (22.0 MB)\r\n",
      "\u001b[2K   \u001b[90m━━━━━━━━━━━━━━━━━━━━━━━━━━━━━━━━━━━━━━━━\u001b[0m \u001b[32m22.0/22.0 MB\u001b[0m \u001b[31m58.8 MB/s\u001b[0m eta \u001b[36m0:00:00\u001b[0m\r\n",
      "\u001b[?25hDownloading nvidia_cuda_nvrtc_cu12-12.3.107-py3-none-manylinux1_x86_64.whl (24.9 MB)\r\n",
      "\u001b[2K   \u001b[90m━━━━━━━━━━━━━━━━━━━━━━━━━━━━━━━━━━━━━━━━\u001b[0m \u001b[32m24.9/24.9 MB\u001b[0m \u001b[31m54.8 MB/s\u001b[0m eta \u001b[36m0:00:00\u001b[0m\r\n",
      "\u001b[?25hDownloading nvidia_cuda_runtime_cu12-12.3.101-py3-none-manylinux1_x86_64.whl (867 kB)\r\n",
      "\u001b[2K   \u001b[90m━━━━━━━━━━━━━━━━━━━━━━━━━━━━━━━━━━━━━━━━\u001b[0m \u001b[32m867.7/867.7 kB\u001b[0m \u001b[31m37.2 MB/s\u001b[0m eta \u001b[36m0:00:00\u001b[0m\r\n",
      "\u001b[?25hDownloading nvidia_cudnn_cu12-8.9.7.29-py3-none-manylinux1_x86_64.whl (704.7 MB)\r\n",
      "\u001b[2K   \u001b[90m━━━━━━━━━━━━━━━━━━━━━━━━━━━━━━━━━━━━━━━━\u001b[0m \u001b[32m704.7/704.7 MB\u001b[0m \u001b[31m1.8 MB/s\u001b[0m eta \u001b[36m0:00:00\u001b[0m\r\n",
      "\u001b[?25hDownloading nvidia_cufft_cu12-11.0.12.1-py3-none-manylinux1_x86_64.whl (98.8 MB)\r\n",
      "\u001b[2K   \u001b[90m━━━━━━━━━━━━━━━━━━━━━━━━━━━━━━━━━━━━━━━━\u001b[0m \u001b[32m98.8/98.8 MB\u001b[0m \u001b[31m15.6 MB/s\u001b[0m eta \u001b[36m0:00:00\u001b[0m\r\n",
      "\u001b[?25hDownloading nvidia_curand_cu12-10.3.4.107-py3-none-manylinux1_x86_64.whl (56.3 MB)\r\n",
      "\u001b[2K   \u001b[90m━━━━━━━━━━━━━━━━━━━━━━━━━━━━━━━━━━━━━━━━\u001b[0m \u001b[32m56.3/56.3 MB\u001b[0m \u001b[31m28.2 MB/s\u001b[0m eta \u001b[36m0:00:00\u001b[0m\r\n",
      "\u001b[?25hDownloading nvidia_cusolver_cu12-11.5.4.101-py3-none-manylinux1_x86_64.whl (125.2 MB)\r\n",
      "\u001b[2K   \u001b[90m━━━━━━━━━━━━━━━━━━━━━━━━━━━━━━━━━━━━━━━━\u001b[0m \u001b[32m125.2/125.2 MB\u001b[0m \u001b[31m12.3 MB/s\u001b[0m eta \u001b[36m0:00:00\u001b[0m\r\n",
      "\u001b[?25hDownloading nvidia_cusparse_cu12-12.2.0.103-py3-none-manylinux1_x86_64.whl (197.5 MB)\r\n",
      "\u001b[2K   \u001b[90m━━━━━━━━━━━━━━━━━━━━━━━━━━━━━━━━━━━━━━━━\u001b[0m \u001b[32m197.5/197.5 MB\u001b[0m \u001b[31m7.5 MB/s\u001b[0m eta \u001b[36m0:00:00\u001b[0m\r\n",
      "\u001b[?25hDownloading nvidia_nccl_cu12-2.19.3-py3-none-manylinux1_x86_64.whl (166.0 MB)\r\n",
      "\u001b[2K   \u001b[90m━━━━━━━━━━━━━━━━━━━━━━━━━━━━━━━━━━━━━━━━\u001b[0m \u001b[32m166.0/166.0 MB\u001b[0m \u001b[31m8.0 MB/s\u001b[0m eta \u001b[36m0:00:00\u001b[0m\r\n",
      "\u001b[?25hDownloading nvidia_nvjitlink_cu12-12.3.101-py3-none-manylinux1_x86_64.whl (20.5 MB)\r\n",
      "\u001b[2K   \u001b[90m━━━━━━━━━━━━━━━━━━━━━━━━━━━━━━━━━━━━━━━━\u001b[0m \u001b[32m20.5/20.5 MB\u001b[0m \u001b[31m61.2 MB/s\u001b[0m eta \u001b[36m0:00:00\u001b[0m\r\n",
      "\u001b[?25hDownloading ml_dtypes-0.3.2-cp310-cp310-manylinux_2_17_x86_64.manylinux2014_x86_64.whl (2.2 MB)\r\n",
      "\u001b[2K   \u001b[90m━━━━━━━━━━━━━━━━━━━━━━━━━━━━━━━━━━━━━━━━\u001b[0m \u001b[32m2.2/2.2 MB\u001b[0m \u001b[31m58.8 MB/s\u001b[0m eta \u001b[36m0:00:00\u001b[0m\r\n",
      "\u001b[?25hDownloading tensorboard-2.16.2-py3-none-any.whl (5.5 MB)\r\n",
      "\u001b[2K   \u001b[90m━━━━━━━━━━━━━━━━━━━━━━━━━━━━━━━━━━━━━━━━\u001b[0m \u001b[32m5.5/5.5 MB\u001b[0m \u001b[31m73.5 MB/s\u001b[0m eta \u001b[36m0:00:00\u001b[0m\r\n",
      "\u001b[?25hDownloading tensorflow-2.16.1-cp310-cp310-manylinux_2_17_x86_64.manylinux2014_x86_64.whl (589.8 MB)\r\n",
      "\u001b[2K   \u001b[90m━━━━━━━━━━━━━━━━━━━━━━━━━━━━━━━━━━━━━━━━\u001b[0m \u001b[32m589.8/589.8 MB\u001b[0m \u001b[31m1.1 MB/s\u001b[0m eta \u001b[36m0:00:00\u001b[0m\r\n",
      "\u001b[?25hInstalling collected packages: nvidia-nvjitlink-cu12, nvidia-nccl-cu12, nvidia-curand-cu12, nvidia-cufft-cu12, nvidia-cuda-runtime-cu12, nvidia-cuda-nvrtc-cu12, nvidia-cuda-nvcc-cu12, nvidia-cuda-cupti-cu12, nvidia-cublas-cu12, ml-dtypes, tensorboard, nvidia-cusparse-cu12, nvidia-cudnn-cu12, nvidia-cusolver-cu12, tensorflow\r\n",
      "  Attempting uninstall: ml-dtypes\r\n",
      "    Found existing installation: ml-dtypes 0.2.0\r\n",
      "    Uninstalling ml-dtypes-0.2.0:\r\n",
      "      Successfully uninstalled ml-dtypes-0.2.0\r\n",
      "  Attempting uninstall: tensorboard\r\n",
      "    Found existing installation: tensorboard 2.15.1\r\n",
      "    Uninstalling tensorboard-2.15.1:\r\n",
      "      Successfully uninstalled tensorboard-2.15.1\r\n",
      "  Attempting uninstall: tensorflow\r\n",
      "    Found existing installation: tensorflow 2.15.0\r\n",
      "    Uninstalling tensorflow-2.15.0:\r\n",
      "      Successfully uninstalled tensorflow-2.15.0\r\n",
      "\u001b[31mERROR: pip's dependency resolver does not currently take into account all the packages that are installed. This behaviour is the source of the following dependency conflicts.\r\n",
      "tensorflow-decision-forests 1.8.1 requires wurlitzer, which is not installed.\r\n",
      "tensorflow-decision-forests 1.8.1 requires tensorflow~=2.15.0, but you have tensorflow 2.16.1 which is incompatible.\r\n",
      "tensorflow-text 2.15.0 requires tensorflow<2.16,>=2.15.0; platform_machine != \"arm64\" or platform_system != \"Darwin\", but you have tensorflow 2.16.1 which is incompatible.\r\n",
      "tf-keras 2.15.1 requires tensorflow<2.16,>=2.15, but you have tensorflow 2.16.1 which is incompatible.\u001b[0m\u001b[31m\r\n",
      "\u001b[0mSuccessfully installed ml-dtypes-0.3.2 nvidia-cublas-cu12-12.3.4.1 nvidia-cuda-cupti-cu12-12.3.101 nvidia-cuda-nvcc-cu12-12.3.107 nvidia-cuda-nvrtc-cu12-12.3.107 nvidia-cuda-runtime-cu12-12.3.101 nvidia-cudnn-cu12-8.9.7.29 nvidia-cufft-cu12-11.0.12.1 nvidia-curand-cu12-10.3.4.107 nvidia-cusolver-cu12-11.5.4.101 nvidia-cusparse-cu12-12.2.0.103 nvidia-nccl-cu12-2.19.3 nvidia-nvjitlink-cu12-12.3.101 tensorboard-2.16.2 tensorflow-2.16.1\r\n"
     ]
    }
   ],
   "source": [
    "!pip install tensorflow[and-cuda]"
   ]
  },
  {
   "cell_type": "code",
   "execution_count": 3,
   "id": "8b7cc72f",
   "metadata": {
    "execution": {
     "iopub.execute_input": "2024-04-04T09:10:02.247398Z",
     "iopub.status.busy": "2024-04-04T09:10:02.246558Z",
     "iopub.status.idle": "2024-04-04T09:10:08.864101Z",
     "shell.execute_reply": "2024-04-04T09:10:08.863161Z"
    },
    "papermill": {
     "duration": 6.707391,
     "end_time": "2024-04-04T09:10:08.866680",
     "exception": false,
     "start_time": "2024-04-04T09:10:02.159289",
     "status": "completed"
    },
    "tags": []
   },
   "outputs": [],
   "source": [
    "import tensorflow as tf\n",
    "from tensorflow.keras import layers, models, regularizers\n",
    "from tensorflow.keras.preprocessing.image import ImageDataGenerator\n",
    "from tensorflow.keras.utils import image_dataset_from_directory\n",
    "import numpy as np"
   ]
  },
  {
   "cell_type": "code",
   "execution_count": 4,
   "id": "bf59b27d",
   "metadata": {
    "execution": {
     "iopub.execute_input": "2024-04-04T09:10:09.086522Z",
     "iopub.status.busy": "2024-04-04T09:10:09.085864Z",
     "iopub.status.idle": "2024-04-04T09:10:09.091073Z",
     "shell.execute_reply": "2024-04-04T09:10:09.090075Z"
    },
    "papermill": {
     "duration": 0.146485,
     "end_time": "2024-04-04T09:10:09.093201",
     "exception": false,
     "start_time": "2024-04-04T09:10:08.946716",
     "status": "completed"
    },
    "tags": []
   },
   "outputs": [],
   "source": [
    "data_dir = '/kaggle/input/apparel-dataset'"
   ]
  },
  {
   "cell_type": "code",
   "execution_count": 5,
   "id": "28d889e7",
   "metadata": {
    "execution": {
     "iopub.execute_input": "2024-04-04T09:10:09.258982Z",
     "iopub.status.busy": "2024-04-04T09:10:09.258579Z",
     "iopub.status.idle": "2024-04-04T09:10:15.402642Z",
     "shell.execute_reply": "2024-04-04T09:10:15.401513Z"
    },
    "papermill": {
     "duration": 6.230101,
     "end_time": "2024-04-04T09:10:15.405221",
     "exception": false,
     "start_time": "2024-04-04T09:10:09.175120",
     "status": "completed"
    },
    "tags": []
   },
   "outputs": [
    {
     "name": "stdout",
     "output_type": "stream",
     "text": [
      "yellow_skirt/\n",
      "white_pants/\n",
      "white_suit/\n",
      "black_pants/\n",
      "white_shoes/\n",
      "pink_hoodie/\n",
      "brown_shoes/\n",
      "blue_shirt/\n",
      "green_shoes/\n",
      "blue_pants/\n",
      "white_shorts/\n",
      "red_pants/\n",
      "blue_shoes/\n",
      "black_dress/\n",
      "red_shirt/\n",
      "red_hoodie/\n",
      "green_pants/\n",
      "black_shorts/\n",
      "black_suit/\n",
      "red_shoes/\n",
      "yellow_dress/\n",
      "pink_pants/\n",
      "yellow_shorts/\n",
      "blue_dress/\n",
      "black_shirt/\n",
      "red_dress/\n",
      "green_shirt/\n",
      "brown_hoodie/\n",
      "silver_shoes/\n",
      "white_dress/\n",
      "pink_skirt/\n",
      "green_shorts/\n",
      "silver_skirt/\n",
      "green_suit/\n",
      "blue_shorts/\n",
      "brown_pants/\n",
      "black_shoes/\n"
     ]
    }
   ],
   "source": [
    "#directory tree\n",
    "import os\n",
    "\n",
    "def print_directory_tree(directory, indent=''):\n",
    "    for item in os.listdir(directory):\n",
    "        full_path = os.path.join(directory, item)\n",
    "        if os.path.isdir(full_path):\n",
    "            print(indent + item + '/')\n",
    "            print_directory_tree(full_path, indent + '    ')\n",
    "\n",
    "print_directory_tree(data_dir)"
   ]
  },
  {
   "cell_type": "code",
   "execution_count": 6,
   "id": "97af1a5a",
   "metadata": {
    "execution": {
     "iopub.execute_input": "2024-04-04T09:10:15.608640Z",
     "iopub.status.busy": "2024-04-04T09:10:15.608137Z",
     "iopub.status.idle": "2024-04-04T09:10:20.736886Z",
     "shell.execute_reply": "2024-04-04T09:10:20.735757Z"
    },
    "papermill": {
     "duration": 5.247321,
     "end_time": "2024-04-04T09:10:20.740352",
     "exception": false,
     "start_time": "2024-04-04T09:10:15.493031",
     "status": "completed"
    },
    "tags": []
   },
   "outputs": [
    {
     "name": "stdout",
     "output_type": "stream",
     "text": [
      "Found 16170 files belonging to 37 classes.\n",
      "Using 12936 files for training.\n",
      "Using 3234 files for validation.\n"
     ]
    }
   ],
   "source": [
    "dataset_apparel = image_dataset_from_directory(\n",
    "    directory = data_dir,\n",
    "    labels=\"inferred\",\n",
    "    label_mode=\"categorical\",\n",
    "    color_mode=\"rgb\",\n",
    "    batch_size=16,\n",
    "    image_size=(256, 256),\n",
    "    shuffle=True,\n",
    "    seed=42,\n",
    "    validation_split=0.2,\n",
    "    subset='both',#if subset = both it returns train and validation set respectively\n",
    ")"
   ]
  },
  {
   "cell_type": "code",
   "execution_count": 7,
   "id": "67c51a68",
   "metadata": {
    "execution": {
     "iopub.execute_input": "2024-04-04T09:10:21.040564Z",
     "iopub.status.busy": "2024-04-04T09:10:21.039392Z",
     "iopub.status.idle": "2024-04-04T09:10:21.046935Z",
     "shell.execute_reply": "2024-04-04T09:10:21.045716Z"
    },
    "papermill": {
     "duration": 0.14171,
     "end_time": "2024-04-04T09:10:21.050340",
     "exception": false,
     "start_time": "2024-04-04T09:10:20.908630",
     "status": "completed"
    },
    "tags": []
   },
   "outputs": [
    {
     "name": "stdout",
     "output_type": "stream",
     "text": [
      "<_PrefetchDataset element_spec=(TensorSpec(shape=(None, 256, 256, 3), dtype=tf.float32, name=None), TensorSpec(shape=(None, 37), dtype=tf.float32, name=None))>\n",
      "<_PrefetchDataset element_spec=(TensorSpec(shape=(None, 256, 256, 3), dtype=tf.float32, name=None), TensorSpec(shape=(None, 37), dtype=tf.float32, name=None))>\n"
     ]
    }
   ],
   "source": [
    "for labels in dataset_apparel:\n",
    "  print(labels)"
   ]
  },
  {
   "cell_type": "code",
   "execution_count": 8,
   "id": "d88efd83",
   "metadata": {
    "execution": {
     "iopub.execute_input": "2024-04-04T09:10:21.285549Z",
     "iopub.status.busy": "2024-04-04T09:10:21.284360Z",
     "iopub.status.idle": "2024-04-04T09:10:21.290689Z",
     "shell.execute_reply": "2024-04-04T09:10:21.289411Z"
    },
    "papermill": {
     "duration": 0.132626,
     "end_time": "2024-04-04T09:10:21.293615",
     "exception": false,
     "start_time": "2024-04-04T09:10:21.160989",
     "status": "completed"
    },
    "tags": []
   },
   "outputs": [],
   "source": [
    "train_set, validation_set = dataset_apparel"
   ]
  },
  {
   "cell_type": "code",
   "execution_count": 9,
   "id": "e85bc872",
   "metadata": {
    "execution": {
     "iopub.execute_input": "2024-04-04T09:10:21.525899Z",
     "iopub.status.busy": "2024-04-04T09:10:21.525020Z",
     "iopub.status.idle": "2024-04-04T09:10:21.626421Z",
     "shell.execute_reply": "2024-04-04T09:10:21.625518Z"
    },
    "papermill": {
     "duration": 0.199469,
     "end_time": "2024-04-04T09:10:21.629146",
     "exception": false,
     "start_time": "2024-04-04T09:10:21.429677",
     "status": "completed"
    },
    "tags": []
   },
   "outputs": [],
   "source": [
    "model = models.Sequential([\n",
    "    layers.Input(shape=(256, 256, 3)),  \n",
    "    layers.Conv2D(512, (3, 3), activation='relu', kernel_regularizer=regularizers.l2(0.001)),\n",
    "    layers.MaxPooling2D((2, 2)),\n",
    "    layers.Dropout(0.2),\n",
    "    layers.Conv2D(256, (3, 3), activation='relu', kernel_regularizer=regularizers.l2(0.001)),\n",
    "    layers.MaxPooling2D((2, 2)),\n",
    "    layers.Dropout(0.2),\n",
    "    layers.Conv2D(128, (3, 3), activation='relu', kernel_regularizer=regularizers.l2(0.001)),\n",
    "    layers.MaxPooling2D((2, 2)),\n",
    "    layers.Flatten(),\n",
    "    layers.Dense(64, activation='relu', kernel_regularizer=regularizers.l2(0.001)),\n",
    "    layers.Dropout(0.3),\n",
    "    layers.Dense(37, activation='softmax')\n",
    "])\n",
    "\n",
    "model.compile(optimizer='adam',\n",
    "              loss='categorical_crossentropy',\n",
    "              metrics=['accuracy'])\n"
   ]
  },
  {
   "cell_type": "code",
   "execution_count": 10,
   "id": "b2da9e29",
   "metadata": {
    "execution": {
     "iopub.execute_input": "2024-04-04T09:10:21.809464Z",
     "iopub.status.busy": "2024-04-04T09:10:21.809086Z",
     "iopub.status.idle": "2024-04-04T09:10:21.813897Z",
     "shell.execute_reply": "2024-04-04T09:10:21.812806Z"
    },
    "papermill": {
     "duration": 0.097985,
     "end_time": "2024-04-04T09:10:21.816080",
     "exception": false,
     "start_time": "2024-04-04T09:10:21.718095",
     "status": "completed"
    },
    "tags": []
   },
   "outputs": [],
   "source": [
    "checkpoint_path = '/kaggle/working/model_checkpoint.keras'"
   ]
  },
  {
   "cell_type": "code",
   "execution_count": 11,
   "id": "400284dc",
   "metadata": {
    "execution": {
     "iopub.execute_input": "2024-04-04T09:10:21.988233Z",
     "iopub.status.busy": "2024-04-04T09:10:21.987828Z",
     "iopub.status.idle": "2024-04-04T09:10:21.993174Z",
     "shell.execute_reply": "2024-04-04T09:10:21.992153Z"
    },
    "papermill": {
     "duration": 0.092612,
     "end_time": "2024-04-04T09:10:21.995338",
     "exception": false,
     "start_time": "2024-04-04T09:10:21.902726",
     "status": "completed"
    },
    "tags": []
   },
   "outputs": [],
   "source": [
    "from keras.callbacks import ModelCheckpoint\n",
    "\n",
    "model_checkpoint_callback = ModelCheckpoint(\n",
    "    filepath=checkpoint_path,\n",
    "    save_weights_only=False,\n",
    "    monitor='val_accuracy',\n",
    "    mode='max',\n",
    "    save_best_only=True,\n",
    "    verbose=1)"
   ]
  },
  {
   "cell_type": "code",
   "execution_count": 12,
   "id": "0b452000",
   "metadata": {
    "execution": {
     "iopub.execute_input": "2024-04-04T09:10:22.163688Z",
     "iopub.status.busy": "2024-04-04T09:10:22.163298Z",
     "iopub.status.idle": "2024-04-04T09:52:42.320515Z",
     "shell.execute_reply": "2024-04-04T09:52:42.319474Z"
    },
    "papermill": {
     "duration": 2540.244428,
     "end_time": "2024-04-04T09:52:42.322944",
     "exception": false,
     "start_time": "2024-04-04T09:10:22.078516",
     "status": "completed"
    },
    "tags": []
   },
   "outputs": [
    {
     "name": "stdout",
     "output_type": "stream",
     "text": [
      "Epoch 1/10\n"
     ]
    },
    {
     "name": "stderr",
     "output_type": "stream",
     "text": [
      "WARNING: All log messages before absl::InitializeLog() is called are written to STDERR\n",
      "I0000 00:00:1712221824.532397     116 service.cc:145] XLA service 0x7f981000c9d0 initialized for platform CUDA (this does not guarantee that XLA will be used). Devices:\n",
      "I0000 00:00:1712221824.532444     116 service.cc:153]   StreamExecutor device (0): Tesla T4, Compute Capability 7.5\n",
      "I0000 00:00:1712221824.532448     116 service.cc:153]   StreamExecutor device (1): Tesla T4, Compute Capability 7.5\n",
      "2024-04-04 09:10:41.133422: E external/local_xla/xla/service/slow_operation_alarm.cc:65] Trying algorithm eng36{k2=3,k3=0} for conv (f32[16,256,125,125]{3,2,1,0}, u8[0]{0}) custom-call(f32[16,512,127,127]{3,2,1,0}, f32[256,512,3,3]{3,2,1,0}, f32[256]{0}), window={size=3x3}, dim_labels=bf01_oi01->bf01, custom_call_target=\"__cudnn$convBiasActivationForward\", backend_config={\"operation_queue_id\":\"0\",\"wait_on_operation_queues\":[],\"cudnn_conv_backend_config\":{\"conv_result_scale\":1,\"activation_mode\":\"kRelu\",\"side_input_scale\":0,\"leakyrelu_alpha\":0}} is taking a while...\n",
      "2024-04-04 09:10:41.243706: E external/local_xla/xla/service/slow_operation_alarm.cc:133] The operation took 1.11042482s\n",
      "Trying algorithm eng36{k2=3,k3=0} for conv (f32[16,256,125,125]{3,2,1,0}, u8[0]{0}) custom-call(f32[16,512,127,127]{3,2,1,0}, f32[256,512,3,3]{3,2,1,0}, f32[256]{0}), window={size=3x3}, dim_labels=bf01_oi01->bf01, custom_call_target=\"__cudnn$convBiasActivationForward\", backend_config={\"operation_queue_id\":\"0\",\"wait_on_operation_queues\":[],\"cudnn_conv_backend_config\":{\"conv_result_scale\":1,\"activation_mode\":\"kRelu\",\"side_input_scale\":0,\"leakyrelu_alpha\":0}} is taking a while...\n",
      "2024-04-04 09:10:57.076075: E external/local_xla/xla/service/slow_operation_alarm.cc:65] Trying algorithm eng1{k2=8,k3=0} for conv (f32[256,512,3,3]{3,2,1,0}, u8[0]{0}) custom-call(f32[16,512,127,127]{3,2,1,0}, f32[16,256,125,125]{3,2,1,0}), window={size=3x3}, dim_labels=bf01_oi01->bf01, custom_call_target=\"__cudnn$convBackwardFilter\", backend_config={\"operation_queue_id\":\"0\",\"wait_on_operation_queues\":[],\"cudnn_conv_backend_config\":{\"conv_result_scale\":1,\"activation_mode\":\"kNone\",\"side_input_scale\":0,\"leakyrelu_alpha\":0}} is taking a while...\n",
      "2024-04-04 09:10:57.098018: E external/local_xla/xla/service/slow_operation_alarm.cc:133] The operation took 1.022041404s\n",
      "Trying algorithm eng1{k2=8,k3=0} for conv (f32[256,512,3,3]{3,2,1,0}, u8[0]{0}) custom-call(f32[16,512,127,127]{3,2,1,0}, f32[16,256,125,125]{3,2,1,0}), window={size=3x3}, dim_labels=bf01_oi01->bf01, custom_call_target=\"__cudnn$convBackwardFilter\", backend_config={\"operation_queue_id\":\"0\",\"wait_on_operation_queues\":[],\"cudnn_conv_backend_config\":{\"conv_result_scale\":1,\"activation_mode\":\"kNone\",\"side_input_scale\":0,\"leakyrelu_alpha\":0}} is taking a while...\n",
      "2024-04-04 09:10:59.025320: E external/local_xla/xla/service/slow_operation_alarm.cc:65] Trying algorithm eng1{k2=6,k3=0} for conv (f32[256,512,3,3]{3,2,1,0}, u8[0]{0}) custom-call(f32[16,512,127,127]{3,2,1,0}, f32[16,256,125,125]{3,2,1,0}), window={size=3x3}, dim_labels=bf01_oi01->bf01, custom_call_target=\"__cudnn$convBackwardFilter\", backend_config={\"operation_queue_id\":\"0\",\"wait_on_operation_queues\":[],\"cudnn_conv_backend_config\":{\"conv_result_scale\":1,\"activation_mode\":\"kNone\",\"side_input_scale\":0,\"leakyrelu_alpha\":0}} is taking a while...\n",
      "2024-04-04 09:10:59.156211: E external/local_xla/xla/service/slow_operation_alarm.cc:133] The operation took 1.131013311s\n",
      "Trying algorithm eng1{k2=6,k3=0} for conv (f32[256,512,3,3]{3,2,1,0}, u8[0]{0}) custom-call(f32[16,512,127,127]{3,2,1,0}, f32[16,256,125,125]{3,2,1,0}), window={size=3x3}, dim_labels=bf01_oi01->bf01, custom_call_target=\"__cudnn$convBackwardFilter\", backend_config={\"operation_queue_id\":\"0\",\"wait_on_operation_queues\":[],\"cudnn_conv_backend_config\":{\"conv_result_scale\":1,\"activation_mode\":\"kNone\",\"side_input_scale\":0,\"leakyrelu_alpha\":0}} is taking a while...\n",
      "2024-04-04 09:11:00.156444: E external/local_xla/xla/service/slow_operation_alarm.cc:65] Trying algorithm eng20{k2=6,k3=0} for conv (f32[256,512,3,3]{3,2,1,0}, u8[0]{0}) custom-call(f32[16,512,127,127]{3,2,1,0}, f32[16,256,125,125]{3,2,1,0}), window={size=3x3}, dim_labels=bf01_oi01->bf01, custom_call_target=\"__cudnn$convBackwardFilter\", backend_config={\"operation_queue_id\":\"0\",\"wait_on_operation_queues\":[],\"cudnn_conv_backend_config\":{\"conv_result_scale\":1,\"activation_mode\":\"kNone\",\"side_input_scale\":0,\"leakyrelu_alpha\":0}} is taking a while...\n",
      "2024-04-04 09:11:00.221039: E external/local_xla/xla/service/slow_operation_alarm.cc:133] The operation took 1.064712039s\n",
      "Trying algorithm eng20{k2=6,k3=0} for conv (f32[256,512,3,3]{3,2,1,0}, u8[0]{0}) custom-call(f32[16,512,127,127]{3,2,1,0}, f32[16,256,125,125]{3,2,1,0}), window={size=3x3}, dim_labels=bf01_oi01->bf01, custom_call_target=\"__cudnn$convBackwardFilter\", backend_config={\"operation_queue_id\":\"0\",\"wait_on_operation_queues\":[],\"cudnn_conv_backend_config\":{\"conv_result_scale\":1,\"activation_mode\":\"kNone\",\"side_input_scale\":0,\"leakyrelu_alpha\":0}} is taking a while...\n",
      "I0000 00:00:1712221867.840241     116 device_compiler.h:188] Compiled cluster using XLA!  This line is logged at most once for the lifetime of the process.\n"
     ]
    },
    {
     "name": "stdout",
     "output_type": "stream",
     "text": [
      "\u001b[1m809/809\u001b[0m \u001b[32m━━━━━━━━━━━━━━━━━━━━\u001b[0m\u001b[37m\u001b[0m \u001b[1m0s\u001b[0m 316ms/step - accuracy: 0.0618 - loss: 22.6296\n",
      "Epoch 1: val_accuracy improved from -inf to 0.09369, saving model to /kaggle/working/model_checkpoint.keras\n",
      "\u001b[1m809/809\u001b[0m \u001b[32m━━━━━━━━━━━━━━━━━━━━\u001b[0m\u001b[37m\u001b[0m \u001b[1m322s\u001b[0m 342ms/step - accuracy: 0.0618 - loss: 22.6104 - val_accuracy: 0.0937 - val_loss: 3.8003\n",
      "Epoch 2/10\n",
      "\u001b[1m809/809\u001b[0m \u001b[32m━━━━━━━━━━━━━━━━━━━━\u001b[0m\u001b[37m\u001b[0m \u001b[1m0s\u001b[0m 284ms/step - accuracy: 0.0973 - loss: 3.7369\n",
      "Epoch 2: val_accuracy improved from 0.09369 to 0.11039, saving model to /kaggle/working/model_checkpoint.keras\n",
      "\u001b[1m809/809\u001b[0m \u001b[32m━━━━━━━━━━━━━━━━━━━━\u001b[0m\u001b[37m\u001b[0m \u001b[1m247s\u001b[0m 305ms/step - accuracy: 0.0973 - loss: 3.7369 - val_accuracy: 0.1104 - val_loss: 3.5794\n",
      "Epoch 3/10\n",
      "\u001b[1m809/809\u001b[0m \u001b[32m━━━━━━━━━━━━━━━━━━━━\u001b[0m\u001b[37m\u001b[0m \u001b[1m0s\u001b[0m 284ms/step - accuracy: 0.1050 - loss: 3.5862\n",
      "Epoch 3: val_accuracy did not improve from 0.11039\n",
      "\u001b[1m809/809\u001b[0m \u001b[32m━━━━━━━━━━━━━━━━━━━━\u001b[0m\u001b[37m\u001b[0m \u001b[1m246s\u001b[0m 305ms/step - accuracy: 0.1050 - loss: 3.5862 - val_accuracy: 0.1085 - val_loss: 3.4964\n",
      "Epoch 4/10\n",
      "\u001b[1m809/809\u001b[0m \u001b[32m━━━━━━━━━━━━━━━━━━━━\u001b[0m\u001b[37m\u001b[0m \u001b[1m0s\u001b[0m 283ms/step - accuracy: 0.1262 - loss: 3.4766\n",
      "Epoch 4: val_accuracy did not improve from 0.11039\n",
      "\u001b[1m809/809\u001b[0m \u001b[32m━━━━━━━━━━━━━━━━━━━━\u001b[0m\u001b[37m\u001b[0m \u001b[1m246s\u001b[0m 304ms/step - accuracy: 0.1262 - loss: 3.4766 - val_accuracy: 0.1088 - val_loss: 3.4732\n",
      "Epoch 5/10\n",
      "\u001b[1m809/809\u001b[0m \u001b[32m━━━━━━━━━━━━━━━━━━━━\u001b[0m\u001b[37m\u001b[0m \u001b[1m0s\u001b[0m 283ms/step - accuracy: 0.1153 - loss: 3.5162\n",
      "Epoch 5: val_accuracy improved from 0.11039 to 0.11410, saving model to /kaggle/working/model_checkpoint.keras\n",
      "\u001b[1m809/809\u001b[0m \u001b[32m━━━━━━━━━━━━━━━━━━━━\u001b[0m\u001b[37m\u001b[0m \u001b[1m246s\u001b[0m 304ms/step - accuracy: 0.1153 - loss: 3.5162 - val_accuracy: 0.1141 - val_loss: 3.4230\n",
      "Epoch 6/10\n",
      "\u001b[1m809/809\u001b[0m \u001b[32m━━━━━━━━━━━━━━━━━━━━\u001b[0m\u001b[37m\u001b[0m \u001b[1m0s\u001b[0m 284ms/step - accuracy: 0.1460 - loss: 3.3539\n",
      "Epoch 6: val_accuracy improved from 0.11410 to 0.12832, saving model to /kaggle/working/model_checkpoint.keras\n",
      "\u001b[1m809/809\u001b[0m \u001b[32m━━━━━━━━━━━━━━━━━━━━\u001b[0m\u001b[37m\u001b[0m \u001b[1m247s\u001b[0m 305ms/step - accuracy: 0.1460 - loss: 3.3539 - val_accuracy: 0.1283 - val_loss: 3.3728\n",
      "Epoch 7/10\n",
      "\u001b[1m809/809\u001b[0m \u001b[32m━━━━━━━━━━━━━━━━━━━━\u001b[0m\u001b[37m\u001b[0m \u001b[1m0s\u001b[0m 284ms/step - accuracy: 0.1314 - loss: 3.4066\n",
      "Epoch 7: val_accuracy improved from 0.12832 to 0.16512, saving model to /kaggle/working/model_checkpoint.keras\n",
      "\u001b[1m809/809\u001b[0m \u001b[32m━━━━━━━━━━━━━━━━━━━━\u001b[0m\u001b[37m\u001b[0m \u001b[1m247s\u001b[0m 305ms/step - accuracy: 0.1314 - loss: 3.4065 - val_accuracy: 0.1651 - val_loss: 3.2231\n",
      "Epoch 8/10\n",
      "\u001b[1m809/809\u001b[0m \u001b[32m━━━━━━━━━━━━━━━━━━━━\u001b[0m\u001b[37m\u001b[0m \u001b[1m0s\u001b[0m 283ms/step - accuracy: 0.1650 - loss: 3.6788\n",
      "Epoch 8: val_accuracy did not improve from 0.16512\n",
      "\u001b[1m809/809\u001b[0m \u001b[32m━━━━━━━━━━━━━━━━━━━━\u001b[0m\u001b[37m\u001b[0m \u001b[1m246s\u001b[0m 303ms/step - accuracy: 0.1650 - loss: 3.6793 - val_accuracy: 0.1095 - val_loss: 3.6802\n",
      "Epoch 9/10\n",
      "\u001b[1m809/809\u001b[0m \u001b[32m━━━━━━━━━━━━━━━━━━━━\u001b[0m\u001b[37m\u001b[0m \u001b[1m0s\u001b[0m 282ms/step - accuracy: 0.1717 - loss: 3.4932\n",
      "Epoch 9: val_accuracy improved from 0.16512 to 0.19759, saving model to /kaggle/working/model_checkpoint.keras\n",
      "\u001b[1m809/809\u001b[0m \u001b[32m━━━━━━━━━━━━━━━━━━━━\u001b[0m\u001b[37m\u001b[0m \u001b[1m245s\u001b[0m 303ms/step - accuracy: 0.1718 - loss: 3.4930 - val_accuracy: 0.1976 - val_loss: 3.3057\n",
      "Epoch 10/10\n",
      "\u001b[1m809/809\u001b[0m \u001b[32m━━━━━━━━━━━━━━━━━━━━\u001b[0m\u001b[37m\u001b[0m \u001b[1m0s\u001b[0m 281ms/step - accuracy: 0.2035 - loss: 3.7136\n",
      "Epoch 10: val_accuracy did not improve from 0.19759\n",
      "\u001b[1m809/809\u001b[0m \u001b[32m━━━━━━━━━━━━━━━━━━━━\u001b[0m\u001b[37m\u001b[0m \u001b[1m248s\u001b[0m 307ms/step - accuracy: 0.2035 - loss: 3.7133 - val_accuracy: 0.1939 - val_loss: 3.3117\n"
     ]
    }
   ],
   "source": [
    "history = model.fit(\n",
    "    train_set,\n",
    "    epochs=10,\n",
    "    callbacks=[model_checkpoint_callback],\n",
    "    validation_data=validation_set)"
   ]
  },
  {
   "cell_type": "code",
   "execution_count": 13,
   "id": "3759f605",
   "metadata": {
    "execution": {
     "iopub.execute_input": "2024-04-04T09:52:44.097337Z",
     "iopub.status.busy": "2024-04-04T09:52:44.096279Z",
     "iopub.status.idle": "2024-04-04T11:53:15.815631Z",
     "shell.execute_reply": "2024-04-04T11:53:15.814237Z"
    },
    "papermill": {
     "duration": 7235.365215,
     "end_time": "2024-04-04T11:53:18.554844",
     "exception": false,
     "start_time": "2024-04-04T09:52:43.189629",
     "status": "completed"
    },
    "tags": []
   },
   "outputs": [
    {
     "name": "stdout",
     "output_type": "stream",
     "text": [
      "Epoch 1/30\n",
      "\u001b[1m809/809\u001b[0m \u001b[32m━━━━━━━━━━━━━━━━━━━━\u001b[0m\u001b[37m\u001b[0m \u001b[1m0s\u001b[0m 284ms/step - accuracy: 0.2105 - loss: 4.2308\n",
      "Epoch 1: val_accuracy improved from 0.19759 to 0.24644, saving model to /kaggle/working/model_checkpoint.keras\n",
      "\u001b[1m809/809\u001b[0m \u001b[32m━━━━━━━━━━━━━━━━━━━━\u001b[0m\u001b[37m\u001b[0m \u001b[1m247s\u001b[0m 305ms/step - accuracy: 0.2106 - loss: 4.2298 - val_accuracy: 0.2464 - val_loss: 3.2344\n",
      "Epoch 2/30\n",
      "\u001b[1m809/809\u001b[0m \u001b[32m━━━━━━━━━━━━━━━━━━━━\u001b[0m\u001b[37m\u001b[0m \u001b[1m0s\u001b[0m 280ms/step - accuracy: 0.2601 - loss: 3.1086\n",
      "Epoch 2: val_accuracy did not improve from 0.24644\n",
      "\u001b[1m809/809\u001b[0m \u001b[32m━━━━━━━━━━━━━━━━━━━━\u001b[0m\u001b[37m\u001b[0m \u001b[1m243s\u001b[0m 300ms/step - accuracy: 0.2601 - loss: 3.1086 - val_accuracy: 0.2282 - val_loss: 3.1560\n",
      "Epoch 3/30\n",
      "\u001b[1m809/809\u001b[0m \u001b[32m━━━━━━━━━━━━━━━━━━━━\u001b[0m\u001b[37m\u001b[0m \u001b[1m0s\u001b[0m 279ms/step - accuracy: 0.2677 - loss: 3.2838\n",
      "Epoch 3: val_accuracy improved from 0.24644 to 0.28788, saving model to /kaggle/working/model_checkpoint.keras\n",
      "\u001b[1m809/809\u001b[0m \u001b[32m━━━━━━━━━━━━━━━━━━━━\u001b[0m\u001b[37m\u001b[0m \u001b[1m243s\u001b[0m 300ms/step - accuracy: 0.2677 - loss: 3.2835 - val_accuracy: 0.2879 - val_loss: 2.9594\n",
      "Epoch 4/30\n",
      "\u001b[1m809/809\u001b[0m \u001b[32m━━━━━━━━━━━━━━━━━━━━\u001b[0m\u001b[37m\u001b[0m \u001b[1m0s\u001b[0m 279ms/step - accuracy: 0.3182 - loss: 2.7893\n",
      "Epoch 4: val_accuracy improved from 0.28788 to 0.32220, saving model to /kaggle/working/model_checkpoint.keras\n",
      "\u001b[1m809/809\u001b[0m \u001b[32m━━━━━━━━━━━━━━━━━━━━\u001b[0m\u001b[37m\u001b[0m \u001b[1m243s\u001b[0m 300ms/step - accuracy: 0.3182 - loss: 2.7892 - val_accuracy: 0.3222 - val_loss: 2.8051\n",
      "Epoch 5/30\n",
      "\u001b[1m809/809\u001b[0m \u001b[32m━━━━━━━━━━━━━━━━━━━━\u001b[0m\u001b[37m\u001b[0m \u001b[1m0s\u001b[0m 279ms/step - accuracy: 0.3775 - loss: 2.5840\n",
      "Epoch 5: val_accuracy improved from 0.32220 to 0.39827, saving model to /kaggle/working/model_checkpoint.keras\n",
      "\u001b[1m809/809\u001b[0m \u001b[32m━━━━━━━━━━━━━━━━━━━━\u001b[0m\u001b[37m\u001b[0m \u001b[1m242s\u001b[0m 299ms/step - accuracy: 0.3775 - loss: 2.5839 - val_accuracy: 0.3983 - val_loss: 2.5649\n",
      "Epoch 6/30\n",
      "\u001b[1m809/809\u001b[0m \u001b[32m━━━━━━━━━━━━━━━━━━━━\u001b[0m\u001b[37m\u001b[0m \u001b[1m0s\u001b[0m 278ms/step - accuracy: 0.4522 - loss: 2.3186\n",
      "Epoch 6: val_accuracy improved from 0.39827 to 0.48794, saving model to /kaggle/working/model_checkpoint.keras\n",
      "\u001b[1m809/809\u001b[0m \u001b[32m━━━━━━━━━━━━━━━━━━━━\u001b[0m\u001b[37m\u001b[0m \u001b[1m242s\u001b[0m 299ms/step - accuracy: 0.4522 - loss: 2.3186 - val_accuracy: 0.4879 - val_loss: 2.2802\n",
      "Epoch 7/30\n",
      "\u001b[1m809/809\u001b[0m \u001b[32m━━━━━━━━━━━━━━━━━━━━\u001b[0m\u001b[37m\u001b[0m \u001b[1m0s\u001b[0m 278ms/step - accuracy: 0.5343 - loss: 2.0449\n",
      "Epoch 7: val_accuracy improved from 0.48794 to 0.51608, saving model to /kaggle/working/model_checkpoint.keras\n",
      "\u001b[1m809/809\u001b[0m \u001b[32m━━━━━━━━━━━━━━━━━━━━\u001b[0m\u001b[37m\u001b[0m \u001b[1m242s\u001b[0m 299ms/step - accuracy: 0.5343 - loss: 2.0449 - val_accuracy: 0.5161 - val_loss: 2.2294\n",
      "Epoch 8/30\n",
      "\u001b[1m809/809\u001b[0m \u001b[32m━━━━━━━━━━━━━━━━━━━━\u001b[0m\u001b[37m\u001b[0m \u001b[1m0s\u001b[0m 278ms/step - accuracy: 0.5978 - loss: 1.8264\n",
      "Epoch 8: val_accuracy did not improve from 0.51608\n",
      "\u001b[1m809/809\u001b[0m \u001b[32m━━━━━━━━━━━━━━━━━━━━\u001b[0m\u001b[37m\u001b[0m \u001b[1m241s\u001b[0m 298ms/step - accuracy: 0.5978 - loss: 1.8264 - val_accuracy: 0.4861 - val_loss: 2.3607\n",
      "Epoch 9/30\n",
      "\u001b[1m809/809\u001b[0m \u001b[32m━━━━━━━━━━━━━━━━━━━━\u001b[0m\u001b[37m\u001b[0m \u001b[1m0s\u001b[0m 278ms/step - accuracy: 0.6129 - loss: 1.7133\n",
      "Epoch 9: val_accuracy improved from 0.51608 to 0.53803, saving model to /kaggle/working/model_checkpoint.keras\n",
      "\u001b[1m809/809\u001b[0m \u001b[32m━━━━━━━━━━━━━━━━━━━━\u001b[0m\u001b[37m\u001b[0m \u001b[1m242s\u001b[0m 298ms/step - accuracy: 0.6129 - loss: 1.7133 - val_accuracy: 0.5380 - val_loss: 2.0902\n",
      "Epoch 10/30\n",
      "\u001b[1m809/809\u001b[0m \u001b[32m━━━━━━━━━━━━━━━━━━━━\u001b[0m\u001b[37m\u001b[0m \u001b[1m0s\u001b[0m 278ms/step - accuracy: 0.6445 - loss: 1.6246\n",
      "Epoch 10: val_accuracy improved from 0.53803 to 0.58101, saving model to /kaggle/working/model_checkpoint.keras\n",
      "\u001b[1m809/809\u001b[0m \u001b[32m━━━━━━━━━━━━━━━━━━━━\u001b[0m\u001b[37m\u001b[0m \u001b[1m242s\u001b[0m 298ms/step - accuracy: 0.6445 - loss: 1.6246 - val_accuracy: 0.5810 - val_loss: 2.0026\n",
      "Epoch 11/30\n",
      "\u001b[1m809/809\u001b[0m \u001b[32m━━━━━━━━━━━━━━━━━━━━\u001b[0m\u001b[37m\u001b[0m \u001b[1m0s\u001b[0m 278ms/step - accuracy: 0.6653 - loss: 1.5358\n",
      "Epoch 11: val_accuracy improved from 0.58101 to 0.59895, saving model to /kaggle/working/model_checkpoint.keras\n",
      "\u001b[1m809/809\u001b[0m \u001b[32m━━━━━━━━━━━━━━━━━━━━\u001b[0m\u001b[37m\u001b[0m \u001b[1m241s\u001b[0m 298ms/step - accuracy: 0.6653 - loss: 1.5358 - val_accuracy: 0.5989 - val_loss: 2.0040\n",
      "Epoch 12/30\n",
      "\u001b[1m809/809\u001b[0m \u001b[32m━━━━━━━━━━━━━━━━━━━━\u001b[0m\u001b[37m\u001b[0m \u001b[1m0s\u001b[0m 277ms/step - accuracy: 0.6873 - loss: 1.4904\n",
      "Epoch 12: val_accuracy improved from 0.59895 to 0.61101, saving model to /kaggle/working/model_checkpoint.keras\n",
      "\u001b[1m809/809\u001b[0m \u001b[32m━━━━━━━━━━━━━━━━━━━━\u001b[0m\u001b[37m\u001b[0m \u001b[1m241s\u001b[0m 298ms/step - accuracy: 0.6873 - loss: 1.4904 - val_accuracy: 0.6110 - val_loss: 1.9091\n",
      "Epoch 13/30\n",
      "\u001b[1m809/809\u001b[0m \u001b[32m━━━━━━━━━━━━━━━━━━━━\u001b[0m\u001b[37m\u001b[0m \u001b[1m0s\u001b[0m 277ms/step - accuracy: 0.6923 - loss: 1.4633\n",
      "Epoch 13: val_accuracy did not improve from 0.61101\n",
      "\u001b[1m809/809\u001b[0m \u001b[32m━━━━━━━━━━━━━━━━━━━━\u001b[0m\u001b[37m\u001b[0m \u001b[1m240s\u001b[0m 297ms/step - accuracy: 0.6923 - loss: 1.4633 - val_accuracy: 0.5900 - val_loss: 1.9779\n",
      "Epoch 14/30\n",
      "\u001b[1m809/809\u001b[0m \u001b[32m━━━━━━━━━━━━━━━━━━━━\u001b[0m\u001b[37m\u001b[0m \u001b[1m0s\u001b[0m 277ms/step - accuracy: 0.7151 - loss: 1.4061\n",
      "Epoch 14: val_accuracy improved from 0.61101 to 0.61626, saving model to /kaggle/working/model_checkpoint.keras\n",
      "\u001b[1m809/809\u001b[0m \u001b[32m━━━━━━━━━━━━━━━━━━━━\u001b[0m\u001b[37m\u001b[0m \u001b[1m241s\u001b[0m 298ms/step - accuracy: 0.7151 - loss: 1.4061 - val_accuracy: 0.6163 - val_loss: 1.9446\n",
      "Epoch 15/30\n",
      "\u001b[1m809/809\u001b[0m \u001b[32m━━━━━━━━━━━━━━━━━━━━\u001b[0m\u001b[37m\u001b[0m \u001b[1m0s\u001b[0m 277ms/step - accuracy: 0.7182 - loss: 1.4078\n",
      "Epoch 15: val_accuracy did not improve from 0.61626\n",
      "\u001b[1m809/809\u001b[0m \u001b[32m━━━━━━━━━━━━━━━━━━━━\u001b[0m\u001b[37m\u001b[0m \u001b[1m240s\u001b[0m 297ms/step - accuracy: 0.7182 - loss: 1.4078 - val_accuracy: 0.6116 - val_loss: 1.9362\n",
      "Epoch 16/30\n",
      "\u001b[1m809/809\u001b[0m \u001b[32m━━━━━━━━━━━━━━━━━━━━\u001b[0m\u001b[37m\u001b[0m \u001b[1m0s\u001b[0m 277ms/step - accuracy: 0.7346 - loss: 1.3553\n",
      "Epoch 16: val_accuracy did not improve from 0.61626\n",
      "\u001b[1m809/809\u001b[0m \u001b[32m━━━━━━━━━━━━━━━━━━━━\u001b[0m\u001b[37m\u001b[0m \u001b[1m240s\u001b[0m 297ms/step - accuracy: 0.7346 - loss: 1.3553 - val_accuracy: 0.6005 - val_loss: 2.0564\n",
      "Epoch 17/30\n",
      "\u001b[1m809/809\u001b[0m \u001b[32m━━━━━━━━━━━━━━━━━━━━\u001b[0m\u001b[37m\u001b[0m \u001b[1m0s\u001b[0m 277ms/step - accuracy: 0.7290 - loss: 1.3693\n",
      "Epoch 17: val_accuracy did not improve from 0.61626\n",
      "\u001b[1m809/809\u001b[0m \u001b[32m━━━━━━━━━━━━━━━━━━━━\u001b[0m\u001b[37m\u001b[0m \u001b[1m240s\u001b[0m 297ms/step - accuracy: 0.7290 - loss: 1.3693 - val_accuracy: 0.6153 - val_loss: 1.9816\n",
      "Epoch 18/30\n",
      "\u001b[1m809/809\u001b[0m \u001b[32m━━━━━━━━━━━━━━━━━━━━\u001b[0m\u001b[37m\u001b[0m \u001b[1m0s\u001b[0m 277ms/step - accuracy: 0.7339 - loss: 1.3537\n",
      "Epoch 18: val_accuracy improved from 0.61626 to 0.63173, saving model to /kaggle/working/model_checkpoint.keras\n",
      "\u001b[1m809/809\u001b[0m \u001b[32m━━━━━━━━━━━━━━━━━━━━\u001b[0m\u001b[37m\u001b[0m \u001b[1m241s\u001b[0m 297ms/step - accuracy: 0.7339 - loss: 1.3537 - val_accuracy: 0.6317 - val_loss: 1.9585\n",
      "Epoch 19/30\n",
      "\u001b[1m809/809\u001b[0m \u001b[32m━━━━━━━━━━━━━━━━━━━━\u001b[0m\u001b[37m\u001b[0m \u001b[1m0s\u001b[0m 277ms/step - accuracy: 0.7477 - loss: 1.3175\n",
      "Epoch 19: val_accuracy did not improve from 0.63173\n",
      "\u001b[1m809/809\u001b[0m \u001b[32m━━━━━━━━━━━━━━━━━━━━\u001b[0m\u001b[37m\u001b[0m \u001b[1m240s\u001b[0m 297ms/step - accuracy: 0.7477 - loss: 1.3175 - val_accuracy: 0.6293 - val_loss: 1.9880\n",
      "Epoch 20/30\n",
      "\u001b[1m809/809\u001b[0m \u001b[32m━━━━━━━━━━━━━━━━━━━━\u001b[0m\u001b[37m\u001b[0m \u001b[1m0s\u001b[0m 276ms/step - accuracy: 0.7561 - loss: 1.3030\n",
      "Epoch 20: val_accuracy did not improve from 0.63173\n",
      "\u001b[1m809/809\u001b[0m \u001b[32m━━━━━━━━━━━━━━━━━━━━\u001b[0m\u001b[37m\u001b[0m \u001b[1m240s\u001b[0m 296ms/step - accuracy: 0.7561 - loss: 1.3030 - val_accuracy: 0.6082 - val_loss: 2.0045\n",
      "Epoch 21/30\n",
      "\u001b[1m809/809\u001b[0m \u001b[32m━━━━━━━━━━━━━━━━━━━━\u001b[0m\u001b[37m\u001b[0m \u001b[1m0s\u001b[0m 276ms/step - accuracy: 0.7622 - loss: 1.3028\n",
      "Epoch 21: val_accuracy did not improve from 0.63173\n",
      "\u001b[1m809/809\u001b[0m \u001b[32m━━━━━━━━━━━━━━━━━━━━\u001b[0m\u001b[37m\u001b[0m \u001b[1m240s\u001b[0m 296ms/step - accuracy: 0.7622 - loss: 1.3028 - val_accuracy: 0.6259 - val_loss: 1.9105\n",
      "Epoch 22/30\n",
      "\u001b[1m809/809\u001b[0m \u001b[32m━━━━━━━━━━━━━━━━━━━━\u001b[0m\u001b[37m\u001b[0m \u001b[1m0s\u001b[0m 277ms/step - accuracy: 0.7580 - loss: 1.3318\n",
      "Epoch 22: val_accuracy improved from 0.63173 to 0.63605, saving model to /kaggle/working/model_checkpoint.keras\n",
      "\u001b[1m809/809\u001b[0m \u001b[32m━━━━━━━━━━━━━━━━━━━━\u001b[0m\u001b[37m\u001b[0m \u001b[1m241s\u001b[0m 297ms/step - accuracy: 0.7580 - loss: 1.3318 - val_accuracy: 0.6361 - val_loss: 1.9779\n",
      "Epoch 23/30\n",
      "\u001b[1m809/809\u001b[0m \u001b[32m━━━━━━━━━━━━━━━━━━━━\u001b[0m\u001b[37m\u001b[0m \u001b[1m0s\u001b[0m 276ms/step - accuracy: 0.7679 - loss: 1.2613\n",
      "Epoch 23: val_accuracy improved from 0.63605 to 0.64688, saving model to /kaggle/working/model_checkpoint.keras\n",
      "\u001b[1m809/809\u001b[0m \u001b[32m━━━━━━━━━━━━━━━━━━━━\u001b[0m\u001b[37m\u001b[0m \u001b[1m240s\u001b[0m 297ms/step - accuracy: 0.7679 - loss: 1.2613 - val_accuracy: 0.6469 - val_loss: 1.8625\n",
      "Epoch 24/30\n",
      "\u001b[1m809/809\u001b[0m \u001b[32m━━━━━━━━━━━━━━━━━━━━\u001b[0m\u001b[37m\u001b[0m \u001b[1m0s\u001b[0m 276ms/step - accuracy: 0.7821 - loss: 1.2712\n",
      "Epoch 24: val_accuracy improved from 0.64688 to 0.64842, saving model to /kaggle/working/model_checkpoint.keras\n",
      "\u001b[1m809/809\u001b[0m \u001b[32m━━━━━━━━━━━━━━━━━━━━\u001b[0m\u001b[37m\u001b[0m \u001b[1m240s\u001b[0m 297ms/step - accuracy: 0.7821 - loss: 1.2712 - val_accuracy: 0.6484 - val_loss: 1.8618\n",
      "Epoch 25/30\n",
      "\u001b[1m809/809\u001b[0m \u001b[32m━━━━━━━━━━━━━━━━━━━━\u001b[0m\u001b[37m\u001b[0m \u001b[1m0s\u001b[0m 276ms/step - accuracy: 0.7839 - loss: 1.2327\n",
      "Epoch 25: val_accuracy did not improve from 0.64842\n",
      "\u001b[1m809/809\u001b[0m \u001b[32m━━━━━━━━━━━━━━━━━━━━\u001b[0m\u001b[37m\u001b[0m \u001b[1m240s\u001b[0m 296ms/step - accuracy: 0.7839 - loss: 1.2327 - val_accuracy: 0.6259 - val_loss: 1.9275\n",
      "Epoch 26/30\n",
      "\u001b[1m809/809\u001b[0m \u001b[32m━━━━━━━━━━━━━━━━━━━━\u001b[0m\u001b[37m\u001b[0m \u001b[1m0s\u001b[0m 276ms/step - accuracy: 0.7785 - loss: 1.2549\n",
      "Epoch 26: val_accuracy improved from 0.64842 to 0.65708, saving model to /kaggle/working/model_checkpoint.keras\n",
      "\u001b[1m809/809\u001b[0m \u001b[32m━━━━━━━━━━━━━━━━━━━━\u001b[0m\u001b[37m\u001b[0m \u001b[1m240s\u001b[0m 297ms/step - accuracy: 0.7785 - loss: 1.2549 - val_accuracy: 0.6571 - val_loss: 1.8556\n",
      "Epoch 27/30\n",
      "\u001b[1m809/809\u001b[0m \u001b[32m━━━━━━━━━━━━━━━━━━━━\u001b[0m\u001b[37m\u001b[0m \u001b[1m0s\u001b[0m 276ms/step - accuracy: 0.7941 - loss: 1.2311\n",
      "Epoch 27: val_accuracy did not improve from 0.65708\n",
      "\u001b[1m809/809\u001b[0m \u001b[32m━━━━━━━━━━━━━━━━━━━━\u001b[0m\u001b[37m\u001b[0m \u001b[1m240s\u001b[0m 296ms/step - accuracy: 0.7941 - loss: 1.2311 - val_accuracy: 0.6521 - val_loss: 1.8562\n",
      "Epoch 28/30\n",
      "\u001b[1m809/809\u001b[0m \u001b[32m━━━━━━━━━━━━━━━━━━━━\u001b[0m\u001b[37m\u001b[0m \u001b[1m0s\u001b[0m 276ms/step - accuracy: 0.7911 - loss: 1.2117\n",
      "Epoch 28: val_accuracy improved from 0.65708 to 0.65832, saving model to /kaggle/working/model_checkpoint.keras\n",
      "\u001b[1m809/809\u001b[0m \u001b[32m━━━━━━━━━━━━━━━━━━━━\u001b[0m\u001b[37m\u001b[0m \u001b[1m240s\u001b[0m 297ms/step - accuracy: 0.7911 - loss: 1.2117 - val_accuracy: 0.6583 - val_loss: 1.8535\n",
      "Epoch 29/30\n",
      "\u001b[1m809/809\u001b[0m \u001b[32m━━━━━━━━━━━━━━━━━━━━\u001b[0m\u001b[37m\u001b[0m \u001b[1m0s\u001b[0m 276ms/step - accuracy: 0.7983 - loss: 1.2191\n",
      "Epoch 29: val_accuracy improved from 0.65832 to 0.66296, saving model to /kaggle/working/model_checkpoint.keras\n",
      "\u001b[1m809/809\u001b[0m \u001b[32m━━━━━━━━━━━━━━━━━━━━\u001b[0m\u001b[37m\u001b[0m \u001b[1m240s\u001b[0m 297ms/step - accuracy: 0.7983 - loss: 1.2191 - val_accuracy: 0.6630 - val_loss: 1.7637\n",
      "Epoch 30/30\n",
      "\u001b[1m809/809\u001b[0m \u001b[32m━━━━━━━━━━━━━━━━━━━━\u001b[0m\u001b[37m\u001b[0m \u001b[1m0s\u001b[0m 276ms/step - accuracy: 0.7998 - loss: 1.1904\n",
      "Epoch 30: val_accuracy improved from 0.66296 to 0.67687, saving model to /kaggle/working/model_checkpoint.keras\n",
      "\u001b[1m809/809\u001b[0m \u001b[32m━━━━━━━━━━━━━━━━━━━━\u001b[0m\u001b[37m\u001b[0m \u001b[1m240s\u001b[0m 297ms/step - accuracy: 0.7998 - loss: 1.1904 - val_accuracy: 0.6769 - val_loss: 1.8135\n"
     ]
    }
   ],
   "source": [
    "history = model.fit(\n",
    "    train_set,\n",
    "    epochs=30,\n",
    "    callbacks=[model_checkpoint_callback],\n",
    "    validation_data=validation_set)"
   ]
  },
  {
   "cell_type": "code",
   "execution_count": 14,
   "id": "ee680e9d",
   "metadata": {
    "execution": {
     "iopub.execute_input": "2024-04-04T11:53:25.031353Z",
     "iopub.status.busy": "2024-04-04T11:53:25.030950Z",
     "iopub.status.idle": "2024-04-04T11:53:41.622983Z",
     "shell.execute_reply": "2024-04-04T11:53:41.621873Z"
    },
    "papermill": {
     "duration": 19.823273,
     "end_time": "2024-04-04T11:53:41.625267",
     "exception": false,
     "start_time": "2024-04-04T11:53:21.801994",
     "status": "completed"
    },
    "tags": []
   },
   "outputs": [
    {
     "name": "stdout",
     "output_type": "stream",
     "text": [
      "------------*************------------\n",
      "\u001b[1m203/203\u001b[0m \u001b[32m━━━━━━━━━━━━━━━━━━━━\u001b[0m\u001b[37m\u001b[0m \u001b[1m17s\u001b[0m 81ms/step - accuracy: 0.6755 - loss: 1.8260\n",
      "Test accuracy: 0.6768707633018494\n"
     ]
    }
   ],
   "source": [
    "print(\"------------*************------------\")\n",
    "test_loss, test_acc = model.evaluate(validation_set)\n",
    "print(f\"Test accuracy: {test_acc}\")"
   ]
  },
  {
   "cell_type": "markdown",
   "id": "9c7d5437",
   "metadata": {
    "papermill": {
     "duration": 3.332274,
     "end_time": "2024-04-04T11:53:48.242890",
     "exception": false,
     "start_time": "2024-04-04T11:53:44.910616",
     "status": "completed"
    },
    "tags": []
   },
   "source": [
    "### Load model from checkpoint"
   ]
  },
  {
   "cell_type": "code",
   "execution_count": 15,
   "id": "94d6f6e0",
   "metadata": {
    "execution": {
     "iopub.execute_input": "2024-04-04T11:53:54.616670Z",
     "iopub.status.busy": "2024-04-04T11:53:54.615848Z",
     "iopub.status.idle": "2024-04-04T11:53:56.003880Z",
     "shell.execute_reply": "2024-04-04T11:53:56.002939Z"
    },
    "papermill": {
     "duration": 4.642004,
     "end_time": "2024-04-04T11:53:56.006519",
     "exception": false,
     "start_time": "2024-04-04T11:53:51.364515",
     "status": "completed"
    },
    "tags": []
   },
   "outputs": [],
   "source": [
    "from keras.models import load_model\n",
    "\n",
    "model = load_model('/kaggle/working/model_checkpoint.keras')\n"
   ]
  },
  {
   "cell_type": "code",
   "execution_count": 16,
   "id": "d2851a57",
   "metadata": {
    "execution": {
     "iopub.execute_input": "2024-04-04T11:54:02.457421Z",
     "iopub.status.busy": "2024-04-04T11:54:02.457017Z",
     "iopub.status.idle": "2024-04-04T12:14:17.909758Z",
     "shell.execute_reply": "2024-04-04T12:14:17.908691Z"
    },
    "papermill": {
     "duration": 1222.100043,
     "end_time": "2024-04-04T12:14:21.334016",
     "exception": false,
     "start_time": "2024-04-04T11:53:59.233973",
     "status": "completed"
    },
    "tags": []
   },
   "outputs": [
    {
     "name": "stdout",
     "output_type": "stream",
     "text": [
      "Epoch 1/5\n",
      "\u001b[1m809/809\u001b[0m \u001b[32m━━━━━━━━━━━━━━━━━━━━\u001b[0m\u001b[37m\u001b[0m \u001b[1m0s\u001b[0m 283ms/step - accuracy: 0.8060 - loss: 1.1838\n",
      "Epoch 1: val_accuracy improved from 0.67687 to 0.67811, saving model to /kaggle/working/model_checkpoint.keras\n",
      "\u001b[1m809/809\u001b[0m \u001b[32m━━━━━━━━━━━━━━━━━━━━\u001b[0m\u001b[37m\u001b[0m \u001b[1m256s\u001b[0m 304ms/step - accuracy: 0.8060 - loss: 1.1838 - val_accuracy: 0.6781 - val_loss: 1.8051\n",
      "Epoch 2/5\n",
      "\u001b[1m809/809\u001b[0m \u001b[32m━━━━━━━━━━━━━━━━━━━━\u001b[0m\u001b[37m\u001b[0m \u001b[1m0s\u001b[0m 276ms/step - accuracy: 0.8088 - loss: 1.1839\n",
      "Epoch 2: val_accuracy did not improve from 0.67811\n",
      "\u001b[1m809/809\u001b[0m \u001b[32m━━━━━━━━━━━━━━━━━━━━\u001b[0m\u001b[37m\u001b[0m \u001b[1m240s\u001b[0m 296ms/step - accuracy: 0.8088 - loss: 1.1839 - val_accuracy: 0.6642 - val_loss: 1.8172\n",
      "Epoch 3/5\n",
      "\u001b[1m809/809\u001b[0m \u001b[32m━━━━━━━━━━━━━━━━━━━━\u001b[0m\u001b[37m\u001b[0m \u001b[1m0s\u001b[0m 276ms/step - accuracy: 0.8113 - loss: 1.1698\n",
      "Epoch 3: val_accuracy improved from 0.67811 to 0.67965, saving model to /kaggle/working/model_checkpoint.keras\n",
      "\u001b[1m809/809\u001b[0m \u001b[32m━━━━━━━━━━━━━━━━━━━━\u001b[0m\u001b[37m\u001b[0m \u001b[1m240s\u001b[0m 297ms/step - accuracy: 0.8113 - loss: 1.1699 - val_accuracy: 0.6797 - val_loss: 1.8076\n",
      "Epoch 4/5\n",
      "\u001b[1m809/809\u001b[0m \u001b[32m━━━━━━━━━━━━━━━━━━━━\u001b[0m\u001b[37m\u001b[0m \u001b[1m0s\u001b[0m 276ms/step - accuracy: 0.8070 - loss: 1.1764\n",
      "Epoch 4: val_accuracy did not improve from 0.67965\n",
      "\u001b[1m809/809\u001b[0m \u001b[32m━━━━━━━━━━━━━━━━━━━━\u001b[0m\u001b[37m\u001b[0m \u001b[1m240s\u001b[0m 296ms/step - accuracy: 0.8070 - loss: 1.1764 - val_accuracy: 0.6512 - val_loss: 1.8963\n",
      "Epoch 5/5\n",
      "\u001b[1m809/809\u001b[0m \u001b[32m━━━━━━━━━━━━━━━━━━━━\u001b[0m\u001b[37m\u001b[0m \u001b[1m0s\u001b[0m 276ms/step - accuracy: 0.8170 - loss: 1.1568\n",
      "Epoch 5: val_accuracy did not improve from 0.67965\n",
      "\u001b[1m809/809\u001b[0m \u001b[32m━━━━━━━━━━━━━━━━━━━━\u001b[0m\u001b[37m\u001b[0m \u001b[1m240s\u001b[0m 296ms/step - accuracy: 0.8169 - loss: 1.1568 - val_accuracy: 0.6682 - val_loss: 1.8001\n"
     ]
    }
   ],
   "source": [
    "history = model.fit(\n",
    "    train_set,\n",
    "    epochs=5,\n",
    "    callbacks=[model_checkpoint_callback],\n",
    "    validation_data=validation_set)"
   ]
  },
  {
   "cell_type": "code",
   "execution_count": 17,
   "id": "d75bfeda",
   "metadata": {
    "execution": {
     "iopub.execute_input": "2024-04-04T12:14:28.456458Z",
     "iopub.status.busy": "2024-04-04T12:14:28.456048Z",
     "iopub.status.idle": "2024-04-04T12:14:45.061084Z",
     "shell.execute_reply": "2024-04-04T12:14:45.059989Z"
    },
    "papermill": {
     "duration": 20.039228,
     "end_time": "2024-04-04T12:14:45.063346",
     "exception": false,
     "start_time": "2024-04-04T12:14:25.024118",
     "status": "completed"
    },
    "tags": []
   },
   "outputs": [
    {
     "name": "stdout",
     "output_type": "stream",
     "text": [
      "------------*************------------\n",
      "\u001b[1m203/203\u001b[0m \u001b[32m━━━━━━━━━━━━━━━━━━━━\u001b[0m\u001b[37m\u001b[0m \u001b[1m17s\u001b[0m 81ms/step - accuracy: 0.6635 - loss: 1.7916\n",
      "Test accuracy: 0.6682127118110657\n"
     ]
    }
   ],
   "source": [
    "print(\"------------*************------------\")\n",
    "test_loss, test_acc = model.evaluate(validation_set)\n",
    "print(f\"Test accuracy: {test_acc}\")"
   ]
  },
  {
   "cell_type": "code",
   "execution_count": 18,
   "id": "975afe20",
   "metadata": {
    "execution": {
     "iopub.execute_input": "2024-04-04T12:14:52.477457Z",
     "iopub.status.busy": "2024-04-04T12:14:52.476525Z",
     "iopub.status.idle": "2024-04-04T12:14:53.177912Z",
     "shell.execute_reply": "2024-04-04T12:14:53.176714Z"
    },
    "papermill": {
     "duration": 4.455665,
     "end_time": "2024-04-04T12:14:53.180378",
     "exception": false,
     "start_time": "2024-04-04T12:14:48.724713",
     "status": "completed"
    },
    "tags": []
   },
   "outputs": [
    {
     "data": {
      "image/png": "[encoded data removed]",
      "text/plain": [
       "<Figure size 1200x400 with 2 Axes>"
      ]
     },
     "metadata": {},
     "output_type": "display_data"
    }
   ],
   "source": [
    "import matplotlib.pyplot as plt\n",
    "\n",
    "# Assuming 'history' is the output from the 'fit' method\n",
    "acc = history.history['accuracy']\n",
    "val_acc = history.history['val_accuracy']\n",
    "loss = history.history['loss']\n",
    "val_loss = history.history['val_loss']\n",
    "\n",
    "epochs = range(1, len(acc) + 1)\n",
    "\n",
    "# Plot training and validation accuracy per epoch\n",
    "plt.figure(figsize=(12, 4))\n",
    "plt.subplot(1, 2, 1)\n",
    "plt.plot(epochs, acc, 'bo', label='Training acc')\n",
    "plt.plot(epochs, val_acc, 'b', label='Validation acc')\n",
    "plt.title('Training and validation accuracy')\n",
    "plt.legend()\n",
    "\n",
    "# Plot training and validation loss per epoch\n",
    "plt.subplot(1, 2, 2)\n",
    "plt.plot(epochs, loss, 'bo', label='Training loss')\n",
    "plt.plot(epochs, val_loss, 'b', label='Validation loss')\n",
    "plt.title('Training and validation loss')\n",
    "plt.legend()\n",
    "\n",
    "plt.show()"
   ]
  }
 ],
 "metadata": {
  "kaggle": {
   "accelerator": "nvidiaTeslaT4",
   "dataSources": [
    {
     "datasetId": 622290,
     "sourceId": 1110281,
     "sourceType": "datasetVersion"
    }
   ],
   "dockerImageVersionId": 30674,
   "isGpuEnabled": true,
   "isInternetEnabled": true,
   "language": "python",
   "sourceType": "notebook"
  },
  "kernelspec": {
   "display_name": "Python 3",
   "language": "python",
   "name": "python3"
  },
  "language_info": {
   "codemirror_mode": {
    "name": "ipython",
    "version": 3
   },
   "file_extension": ".py",
   "mimetype": "text/x-python",
   "name": "python",
   "nbconvert_exporter": "python",
   "pygments_lexer": "ipython3",
   "version": "3.10.13"
  },
  "papermill": {
   "default_parameters": {},
   "duration": 11293.540526,
   "end_time": "2024-04-04T12:14:59.582766",
   "environment_variables": {},
   "exception": null,
   "input_path": "__notebook__.ipynb",
   "output_path": "__notebook__.ipynb",
   "parameters": {},
   "start_time": "2024-04-04T09:06:46.042240",
   "version": "2.5.0"
  }
 },
 "nbformat": 4,
 "nbformat_minor": 5
}
