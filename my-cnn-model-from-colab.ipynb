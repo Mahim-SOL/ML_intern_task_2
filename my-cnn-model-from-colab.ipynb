{
 "cells": [
  {
   "cell_type": "code",
   "execution_count": 1,
   "id": "ff38174a",
   "metadata": {
    "execution": {
     "iopub.execute_input": "2024-04-07T21:23:01.827818Z",
     "iopub.status.busy": "2024-04-07T21:23:01.827122Z",
     "iopub.status.idle": "2024-04-07T21:23:01.837546Z",
     "shell.execute_reply": "2024-04-07T21:23:01.837060Z"
    },
    "id": "JISz4KuSd2Jm",
    "papermill": {
     "duration": 0.019399,
     "end_time": "2024-04-07T21:23:01.839455",
     "exception": false,
     "start_time": "2024-04-07T21:23:01.820056",
     "status": "completed"
    },
    "tags": []
   },
   "outputs": [],
   "source": [
    "import warnings\n",
    "import sys\n",
    "warnings.filterwarnings(\"ignore\", message=\"Trying algorithm eng36\")\n",
    "sys.stderr = open('/dev/null', 'w') if sys.platform.startswith('linux') or sys.platform.startswith('darwin') else open('nul', 'w')"
   ]
  },
  {
   "cell_type": "markdown",
   "id": "d1f482f5",
   "metadata": {
    "papermill": {
     "duration": 0.0051,
     "end_time": "2024-04-07T21:23:01.851409",
     "exception": false,
     "start_time": "2024-04-07T21:23:01.846309",
     "status": "completed"
    },
    "tags": []
   },
   "source": [
    "Warning block 👆"
   ]
  },
  {
   "cell_type": "code",
   "execution_count": 2,
   "id": "540f529a",
   "metadata": {
    "execution": {
     "iopub.execute_input": "2024-04-07T21:23:01.863055Z",
     "iopub.status.busy": "2024-04-07T21:23:01.862779Z",
     "iopub.status.idle": "2024-04-07T21:23:14.607325Z",
     "shell.execute_reply": "2024-04-07T21:23:14.606732Z"
    },
    "papermill": {
     "duration": 12.753076,
     "end_time": "2024-04-07T21:23:14.609624",
     "exception": false,
     "start_time": "2024-04-07T21:23:01.856548",
     "status": "completed"
    },
    "tags": []
   },
   "outputs": [],
   "source": [
    "import tensorflow as tf\n",
    "from tensorflow.keras import layers, models, regularizers\n",
    "from tensorflow.keras.preprocessing.image import ImageDataGenerator\n",
    "from tensorflow.keras.utils import image_dataset_from_directory\n",
    "from tensorflow.keras.saving import load_model\n",
    "import numpy as np\n",
    "from keras.callbacks import ModelCheckpoint"
   ]
  },
  {
   "cell_type": "code",
   "execution_count": 3,
   "id": "ed18b052",
   "metadata": {
    "execution": {
     "iopub.execute_input": "2024-04-07T21:23:14.622212Z",
     "iopub.status.busy": "2024-04-07T21:23:14.621652Z",
     "iopub.status.idle": "2024-04-07T21:23:14.625380Z",
     "shell.execute_reply": "2024-04-07T21:23:14.624773Z"
    },
    "id": "Z8gEUXKzDcxH",
    "papermill": {
     "duration": 0.011966,
     "end_time": "2024-04-07T21:23:14.627240",
     "exception": false,
     "start_time": "2024-04-07T21:23:14.615274",
     "status": "completed"
    },
    "tags": []
   },
   "outputs": [],
   "source": [
    "data_dir = '/kaggle/input/apparel-dataset'"
   ]
  },
  {
   "cell_type": "markdown",
   "id": "d679e555",
   "metadata": {
    "papermill": {
     "duration": 0.00498,
     "end_time": "2024-04-07T21:23:14.637547",
     "exception": false,
     "start_time": "2024-04-07T21:23:14.632567",
     "status": "completed"
    },
    "tags": []
   },
   "source": [
    "#### directory names"
   ]
  },
  {
   "cell_type": "code",
   "execution_count": 4,
   "id": "1b14ac5b",
   "metadata": {
    "execution": {
     "iopub.execute_input": "2024-04-07T21:23:14.649081Z",
     "iopub.status.busy": "2024-04-07T21:23:14.648793Z",
     "iopub.status.idle": "2024-04-07T21:23:19.195852Z",
     "shell.execute_reply": "2024-04-07T21:23:19.195291Z"
    },
    "id": "0tVZ-V3ANS21",
    "outputId": "1c96b4ef-d8fc-4c6b-c410-6eeeb61cb435",
    "papermill": {
     "duration": 4.554906,
     "end_time": "2024-04-07T21:23:19.197726",
     "exception": false,
     "start_time": "2024-04-07T21:23:14.642820",
     "status": "completed"
    },
    "tags": []
   },
   "outputs": [
    {
     "name": "stdout",
     "output_type": "stream",
     "text": [
      "yellow_skirt/\n",
      "white_pants/\n",
      "white_suit/\n",
      "black_pants/\n",
      "white_shoes/\n",
      "pink_hoodie/\n",
      "brown_shoes/\n",
      "blue_shirt/\n",
      "green_shoes/\n",
      "blue_pants/\n",
      "white_shorts/\n",
      "red_pants/\n",
      "blue_shoes/\n",
      "black_dress/\n",
      "red_shirt/\n",
      "red_hoodie/\n",
      "green_pants/\n",
      "black_shorts/\n",
      "black_suit/\n",
      "red_shoes/\n",
      "yellow_dress/\n",
      "pink_pants/\n",
      "yellow_shorts/\n",
      "blue_dress/\n",
      "black_shirt/\n",
      "red_dress/\n",
      "green_shirt/\n",
      "brown_hoodie/\n",
      "silver_shoes/\n",
      "white_dress/\n",
      "pink_skirt/\n",
      "green_shorts/\n",
      "silver_skirt/\n",
      "green_suit/\n",
      "blue_shorts/\n",
      "brown_pants/\n",
      "black_shoes/\n"
     ]
    }
   ],
   "source": [
    "import os\n",
    "\n",
    "\n",
    "# Function to print directory tree recursively\n",
    "def print_directory_tree(directory, indent=''):\n",
    "    for item in os.listdir(directory):\n",
    "        full_path = os.path.join(directory, item)\n",
    "        if os.path.isdir(full_path):\n",
    "            print(indent + item + '/')\n",
    "            print_directory_tree(full_path, indent + '    ')\n",
    "\n",
    "# Print the directory tree\n",
    "print_directory_tree(data_dir)"
   ]
  },
  {
   "cell_type": "markdown",
   "id": "904011d8",
   "metadata": {
    "papermill": {
     "duration": 0.006192,
     "end_time": "2024-04-07T21:23:19.210738",
     "exception": false,
     "start_time": "2024-04-07T21:23:19.204546",
     "status": "completed"
    },
    "tags": []
   },
   "source": [
    "### Data preprocess"
   ]
  },
  {
   "cell_type": "code",
   "execution_count": 5,
   "id": "6acb0f76",
   "metadata": {
    "execution": {
     "iopub.execute_input": "2024-04-07T21:23:19.224935Z",
     "iopub.status.busy": "2024-04-07T21:23:19.224565Z",
     "iopub.status.idle": "2024-04-07T21:23:23.731503Z",
     "shell.execute_reply": "2024-04-07T21:23:23.730892Z"
    },
    "id": "zdZ6pheogRnH",
    "outputId": "149c8838-056f-4d07-9dae-99616502e5dc",
    "papermill": {
     "duration": 4.516557,
     "end_time": "2024-04-07T21:23:23.733759",
     "exception": false,
     "start_time": "2024-04-07T21:23:19.217202",
     "status": "completed"
    },
    "tags": []
   },
   "outputs": [
    {
     "name": "stdout",
     "output_type": "stream",
     "text": [
      "Found 16170 files belonging to 37 classes.\n",
      "Using 12936 files for training.\n",
      "Using 3234 files for validation.\n"
     ]
    }
   ],
   "source": [
    "dataset_apparel = image_dataset_from_directory(\n",
    "    directory = data_dir,\n",
    "    labels=\"inferred\",\n",
    "    label_mode=\"categorical\",\n",
    "    color_mode=\"rgb\",\n",
    "    batch_size=16,\n",
    "    image_size=(224, 224),\n",
    "    shuffle=True,\n",
    "    seed=42,\n",
    "    validation_split=0.2,\n",
    "    subset='both',#if subset = both it returns train and validation set respectively\n",
    ")"
   ]
  },
  {
   "cell_type": "code",
   "execution_count": 6,
   "id": "8464f341",
   "metadata": {
    "execution": {
     "iopub.execute_input": "2024-04-07T21:23:23.748932Z",
     "iopub.status.busy": "2024-04-07T21:23:23.748609Z",
     "iopub.status.idle": "2024-04-07T21:23:23.752264Z",
     "shell.execute_reply": "2024-04-07T21:23:23.751625Z"
    },
    "id": "fBpczS6pYIIw",
    "outputId": "f82b1427-1ada-405c-8907-c89acb0b6a09",
    "papermill": {
     "duration": 0.014487,
     "end_time": "2024-04-07T21:23:23.755187",
     "exception": false,
     "start_time": "2024-04-07T21:23:23.740700",
     "status": "completed"
    },
    "tags": []
   },
   "outputs": [
    {
     "name": "stdout",
     "output_type": "stream",
     "text": [
      "<_PrefetchDataset element_spec=(TensorSpec(shape=(None, 224, 224, 3), dtype=tf.float32, name=None), TensorSpec(shape=(None, 37), dtype=tf.float32, name=None))>\n",
      "<_PrefetchDataset element_spec=(TensorSpec(shape=(None, 224, 224, 3), dtype=tf.float32, name=None), TensorSpec(shape=(None, 37), dtype=tf.float32, name=None))>\n"
     ]
    }
   ],
   "source": [
    "for labels in dataset_apparel:\n",
    "  print(labels)"
   ]
  },
  {
   "cell_type": "code",
   "execution_count": 7,
   "id": "8ca1721d",
   "metadata": {
    "execution": {
     "iopub.execute_input": "2024-04-07T21:23:23.770760Z",
     "iopub.status.busy": "2024-04-07T21:23:23.770488Z",
     "iopub.status.idle": "2024-04-07T21:23:23.773750Z",
     "shell.execute_reply": "2024-04-07T21:23:23.773177Z"
    },
    "id": "ax2Euf4PRZWr",
    "papermill": {
     "duration": 0.012645,
     "end_time": "2024-04-07T21:23:23.775668",
     "exception": false,
     "start_time": "2024-04-07T21:23:23.763023",
     "status": "completed"
    },
    "tags": []
   },
   "outputs": [],
   "source": [
    "train_set, validation_set = dataset_apparel"
   ]
  },
  {
   "cell_type": "markdown",
   "id": "2af08824",
   "metadata": {
    "papermill": {
     "duration": 0.006626,
     "end_time": "2024-04-07T21:23:23.789106",
     "exception": false,
     "start_time": "2024-04-07T21:23:23.782480",
     "status": "completed"
    },
    "tags": []
   },
   "source": [
    "### Model Checkpoint method"
   ]
  },
  {
   "cell_type": "code",
   "execution_count": 8,
   "id": "236e5b11",
   "metadata": {
    "execution": {
     "iopub.execute_input": "2024-04-07T21:23:23.803648Z",
     "iopub.status.busy": "2024-04-07T21:23:23.803411Z",
     "iopub.status.idle": "2024-04-07T21:23:23.807034Z",
     "shell.execute_reply": "2024-04-07T21:23:23.806406Z"
    },
    "papermill": {
     "duration": 0.013014,
     "end_time": "2024-04-07T21:23:23.808985",
     "exception": false,
     "start_time": "2024-04-07T21:23:23.795971",
     "status": "completed"
    },
    "tags": []
   },
   "outputs": [],
   "source": [
    "checkpoint_path = '/kaggle/working/model_checkpoint.keras'\n",
    "model_checkpoint_callback = ModelCheckpoint(\n",
    "    filepath=checkpoint_path,\n",
    "    save_weights_only=False,\n",
    "    monitor='val_accuracy',\n",
    "    mode='auto',\n",
    "    save_best_only=True,\n",
    "    verbose=1)"
   ]
  },
  {
   "cell_type": "markdown",
   "id": "4586b9f4",
   "metadata": {
    "papermill": {
     "duration": 0.00665,
     "end_time": "2024-04-07T21:23:23.822627",
     "exception": false,
     "start_time": "2024-04-07T21:23:23.815977",
     "status": "completed"
    },
    "tags": []
   },
   "source": [
    "### Built Model"
   ]
  },
  {
   "cell_type": "code",
   "execution_count": 9,
   "id": "1e268699",
   "metadata": {
    "execution": {
     "iopub.execute_input": "2024-04-07T21:23:23.837104Z",
     "iopub.status.busy": "2024-04-07T21:23:23.836808Z",
     "iopub.status.idle": "2024-04-07T21:23:23.991250Z",
     "shell.execute_reply": "2024-04-07T21:23:23.990707Z"
    },
    "id": "7N5nj5-dRXZX",
    "papermill": {
     "duration": 0.164227,
     "end_time": "2024-04-07T21:23:23.993494",
     "exception": false,
     "start_time": "2024-04-07T21:23:23.829267",
     "status": "completed"
    },
    "tags": []
   },
   "outputs": [],
   "source": [
    "model = models.Sequential([\n",
    "    layers.Input(shape=(224, 224, 3)),\n",
    "    \n",
    "    layers.Conv2D(512, (3, 3), activation='relu',kernel_regularizer=regularizers.l2(0.001)),\n",
    "    layers.BatchNormalization(),\n",
    "    layers.MaxPooling2D((2, 2)),\n",
    "    layers.Dropout(0.2), \n",
    "    \n",
    "    layers.Conv2D(256, (3, 3), activation='relu', kernel_regularizer=regularizers.l2(0.001)),\n",
    "    layers.BatchNormalization(),\n",
    "    layers.MaxPooling2D((2, 2)),\n",
    "    layers.Dropout(0.2),\n",
    "    \n",
    "    layers.Conv2D(128, (3, 3), activation='relu', kernel_regularizer=regularizers.l2(0.001)),\n",
    "    layers.BatchNormalization(),\n",
    "    layers.MaxPooling2D((2, 2)),\n",
    "    layers.Dropout(0.2),\n",
    "    \n",
    "    layers.Conv2D(128, (3, 3), activation='relu', kernel_regularizer=regularizers.l2(0.001)),\n",
    "    layers.BatchNormalization(),\n",
    "    layers.MaxPooling2D((2, 2)),\n",
    "    \n",
    "    layers.Flatten(),\n",
    "    layers.Dense(64, activation='relu', kernel_regularizer=regularizers.l2(0.001)),\n",
    "    layers.BatchNormalization(),\n",
    "    layers.Dropout(0.3),\n",
    "    layers.Dense(37, activation='softmax')\n",
    "])\n",
    "\n",
    "model.compile(optimizer='adam',\n",
    "              loss='categorical_crossentropy',#multilabel classification\n",
    "              metrics=['accuracy','auc'])"
   ]
  },
  {
   "cell_type": "markdown",
   "id": "edd0d431",
   "metadata": {
    "papermill": {
     "duration": 0.007238,
     "end_time": "2024-04-07T21:23:24.007423",
     "exception": false,
     "start_time": "2024-04-07T21:23:24.000185",
     "status": "completed"
    },
    "tags": []
   },
   "source": [
    "### Run Model"
   ]
  },
  {
   "cell_type": "code",
   "execution_count": 10,
   "id": "b2d4140e",
   "metadata": {
    "execution": {
     "iopub.execute_input": "2024-04-07T21:23:24.021989Z",
     "iopub.status.busy": "2024-04-07T21:23:24.021690Z",
     "iopub.status.idle": "2024-04-07T22:05:18.692843Z",
     "shell.execute_reply": "2024-04-07T22:05:18.691973Z"
    },
    "id": "hVrjgboxCVM5",
    "outputId": "fb01d614-51e9-412f-a634-45bdcb512d78",
    "papermill": {
     "duration": 2514.681073,
     "end_time": "2024-04-07T22:05:18.695242",
     "exception": false,
     "start_time": "2024-04-07T21:23:24.014169",
     "status": "completed"
    },
    "tags": []
   },
   "outputs": [
    {
     "name": "stdout",
     "output_type": "stream",
     "text": [
      "Epoch 1/10\n",
      "\u001b[1m809/809\u001b[0m \u001b[32m━━━━━━━━━━━━━━━━━━━━\u001b[0m\u001b[37m\u001b[0m \u001b[1m0s\u001b[0m 325ms/step - accuracy: 0.3976 - auc: 0.8751 - loss: 3.0956\n",
      "Epoch 1: val_accuracy improved from -inf to 0.63667, saving model to /kaggle/working/model_checkpoint.keras\n",
      "\u001b[1m809/809\u001b[0m \u001b[32m━━━━━━━━━━━━━━━━━━━━\u001b[0m\u001b[37m\u001b[0m \u001b[1m341s\u001b[0m 349ms/step - accuracy: 0.3977 - auc: 0.8752 - loss: 3.0949 - val_accuracy: 0.6367 - val_auc: 0.9705 - val_loss: 1.8950\n",
      "Epoch 2/10\n",
      "\u001b[1m809/809\u001b[0m \u001b[32m━━━━━━━━━━━━━━━━━━━━\u001b[0m\u001b[37m\u001b[0m \u001b[1m0s\u001b[0m 282ms/step - accuracy: 0.6740 - auc: 0.9747 - loss: 1.7270\n",
      "Epoch 2: val_accuracy improved from 0.63667 to 0.66327, saving model to /kaggle/working/model_checkpoint.keras\n",
      "\u001b[1m809/809\u001b[0m \u001b[32m━━━━━━━━━━━━━━━━━━━━\u001b[0m\u001b[37m\u001b[0m \u001b[1m241s\u001b[0m 298ms/step - accuracy: 0.6740 - auc: 0.9747 - loss: 1.7269 - val_accuracy: 0.6633 - val_auc: 0.9756 - val_loss: 1.7061\n",
      "Epoch 3/10\n",
      "\u001b[1m809/809\u001b[0m \u001b[32m━━━━━━━━━━━━━━━━━━━━\u001b[0m\u001b[37m\u001b[0m \u001b[1m0s\u001b[0m 281ms/step - accuracy: 0.7100 - auc: 0.9797 - loss: 1.5244\n",
      "Epoch 3: val_accuracy did not improve from 0.66327\n",
      "\u001b[1m809/809\u001b[0m \u001b[32m━━━━━━━━━━━━━━━━━━━━\u001b[0m\u001b[37m\u001b[0m \u001b[1m240s\u001b[0m 296ms/step - accuracy: 0.7100 - auc: 0.9797 - loss: 1.5244 - val_accuracy: 0.6617 - val_auc: 0.9743 - val_loss: 1.7501\n",
      "Epoch 4/10\n",
      "\u001b[1m809/809\u001b[0m \u001b[32m━━━━━━━━━━━━━━━━━━━━\u001b[0m\u001b[37m\u001b[0m \u001b[1m0s\u001b[0m 281ms/step - accuracy: 0.7426 - auc: 0.9840 - loss: 1.4440\n",
      "Epoch 4: val_accuracy improved from 0.66327 to 0.75046, saving model to /kaggle/working/model_checkpoint.keras\n",
      "\u001b[1m809/809\u001b[0m \u001b[32m━━━━━━━━━━━━━━━━━━━━\u001b[0m\u001b[37m\u001b[0m \u001b[1m240s\u001b[0m 297ms/step - accuracy: 0.7426 - auc: 0.9840 - loss: 1.4440 - val_accuracy: 0.7505 - val_auc: 0.9867 - val_loss: 1.4640\n",
      "Epoch 5/10\n",
      "\u001b[1m809/809\u001b[0m \u001b[32m━━━━━━━━━━━━━━━━━━━━\u001b[0m\u001b[37m\u001b[0m \u001b[1m0s\u001b[0m 281ms/step - accuracy: 0.7665 - auc: 0.9852 - loss: 1.4378\n",
      "Epoch 5: val_accuracy improved from 0.75046 to 0.77767, saving model to /kaggle/working/model_checkpoint.keras\n",
      "\u001b[1m809/809\u001b[0m \u001b[32m━━━━━━━━━━━━━━━━━━━━\u001b[0m\u001b[37m\u001b[0m \u001b[1m240s\u001b[0m 296ms/step - accuracy: 0.7665 - auc: 0.9852 - loss: 1.4378 - val_accuracy: 0.7777 - val_auc: 0.9891 - val_loss: 1.4673\n",
      "Epoch 6/10\n",
      "\u001b[1m809/809\u001b[0m \u001b[32m━━━━━━━━━━━━━━━━━━━━\u001b[0m\u001b[37m\u001b[0m \u001b[1m0s\u001b[0m 281ms/step - accuracy: 0.7763 - auc: 0.9870 - loss: 1.4309\n",
      "Epoch 6: val_accuracy did not improve from 0.77767\n",
      "\u001b[1m809/809\u001b[0m \u001b[32m━━━━━━━━━━━━━━━━━━━━\u001b[0m\u001b[37m\u001b[0m \u001b[1m240s\u001b[0m 296ms/step - accuracy: 0.7763 - auc: 0.9870 - loss: 1.4309 - val_accuracy: 0.7560 - val_auc: 0.9876 - val_loss: 1.5410\n",
      "Epoch 7/10\n",
      "\u001b[1m809/809\u001b[0m \u001b[32m━━━━━━━━━━━━━━━━━━━━\u001b[0m\u001b[37m\u001b[0m \u001b[1m0s\u001b[0m 281ms/step - accuracy: 0.7940 - auc: 0.9888 - loss: 1.3965\n",
      "Epoch 7: val_accuracy did not improve from 0.77767\n",
      "\u001b[1m809/809\u001b[0m \u001b[32m━━━━━━━━━━━━━━━━━━━━\u001b[0m\u001b[37m\u001b[0m \u001b[1m240s\u001b[0m 296ms/step - accuracy: 0.7940 - auc: 0.9888 - loss: 1.3965 - val_accuracy: 0.7486 - val_auc: 0.9850 - val_loss: 1.6037\n",
      "Epoch 8/10\n",
      "\u001b[1m809/809\u001b[0m \u001b[32m━━━━━━━━━━━━━━━━━━━━\u001b[0m\u001b[37m\u001b[0m \u001b[1m0s\u001b[0m 281ms/step - accuracy: 0.8086 - auc: 0.9890 - loss: 1.3465\n",
      "Epoch 8: val_accuracy did not improve from 0.77767\n",
      "\u001b[1m809/809\u001b[0m \u001b[32m━━━━━━━━━━━━━━━━━━━━\u001b[0m\u001b[37m\u001b[0m \u001b[1m240s\u001b[0m 296ms/step - accuracy: 0.8086 - auc: 0.9890 - loss: 1.3465 - val_accuracy: 0.6633 - val_auc: 0.9664 - val_loss: 1.8680\n",
      "Epoch 9/10\n",
      "\u001b[1m809/809\u001b[0m \u001b[32m━━━━━━━━━━━━━━━━━━━━\u001b[0m\u001b[37m\u001b[0m \u001b[1m0s\u001b[0m 281ms/step - accuracy: 0.8197 - auc: 0.9906 - loss: 1.2989\n",
      "Epoch 9: val_accuracy improved from 0.77767 to 0.78386, saving model to /kaggle/working/model_checkpoint.keras\n",
      "\u001b[1m809/809\u001b[0m \u001b[32m━━━━━━━━━━━━━━━━━━━━\u001b[0m\u001b[37m\u001b[0m \u001b[1m240s\u001b[0m 296ms/step - accuracy: 0.8197 - auc: 0.9906 - loss: 1.2989 - val_accuracy: 0.7839 - val_auc: 0.9852 - val_loss: 1.4268\n",
      "Epoch 10/10\n",
      "\u001b[1m809/809\u001b[0m \u001b[32m━━━━━━━━━━━━━━━━━━━━\u001b[0m\u001b[37m\u001b[0m \u001b[1m0s\u001b[0m 281ms/step - accuracy: 0.8226 - auc: 0.9908 - loss: 1.2861\n",
      "Epoch 10: val_accuracy improved from 0.78386 to 0.80117, saving model to /kaggle/working/model_checkpoint.keras\n",
      "\u001b[1m809/809\u001b[0m \u001b[32m━━━━━━━━━━━━━━━━━━━━\u001b[0m\u001b[37m\u001b[0m \u001b[1m240s\u001b[0m 296ms/step - accuracy: 0.8226 - auc: 0.9908 - loss: 1.2861 - val_accuracy: 0.8012 - val_auc: 0.9901 - val_loss: 1.3181\n",
      "------------*************------------\n",
      "\u001b[1m203/203\u001b[0m \u001b[32m━━━━━━━━━━━━━━━━━━━━\u001b[0m\u001b[37m\u001b[0m \u001b[1m13s\u001b[0m 64ms/step - accuracy: 0.8026 - auc: 0.9896 - loss: 1.3275\n",
      "Test accuracy: 0.8011749982833862\n"
     ]
    }
   ],
   "source": [
    "history = model.fit(train_set, epochs=10, validation_data=validation_set, callbacks=[model_checkpoint_callback])\n",
    "\n",
    "print(\"------------*************------------\")\n",
    "test_loss, test_acc, test_auc = model.evaluate(validation_set)\n",
    "print(f\"Test accuracy: {test_acc}\")"
   ]
  },
  {
   "cell_type": "markdown",
   "id": "22eb06b3",
   "metadata": {
    "papermill": {
     "duration": 0.749227,
     "end_time": "2024-04-07T22:05:20.140929",
     "exception": false,
     "start_time": "2024-04-07T22:05:19.391702",
     "status": "completed"
    },
    "tags": []
   },
   "source": [
    "### Plot performance graph"
   ]
  },
  {
   "cell_type": "code",
   "execution_count": 11,
   "id": "b7f47175",
   "metadata": {
    "execution": {
     "iopub.execute_input": "2024-04-07T22:05:21.531561Z",
     "iopub.status.busy": "2024-04-07T22:05:21.530931Z",
     "iopub.status.idle": "2024-04-07T22:05:38.388358Z",
     "shell.execute_reply": "2024-04-07T22:05:38.387658Z"
    },
    "id": "9wOngQhSSsKv",
    "papermill": {
     "duration": 17.555586,
     "end_time": "2024-04-07T22:05:38.390708",
     "exception": false,
     "start_time": "2024-04-07T22:05:20.835122",
     "status": "completed"
    },
    "tags": []
   },
   "outputs": [
    {
     "data": {
      "image/png": "[encoded data removed]",
      "text/plain": [
       "<Figure size 640x480 with 1 Axes>"
      ]
     },
     "metadata": {},
     "output_type": "display_data"
    },
    {
     "name": "stdout",
     "output_type": "stream",
     "text": [
      "\u001b[1m203/203\u001b[0m \u001b[32m━━━━━━━━━━━━━━━━━━━━\u001b[0m\u001b[37m\u001b[0m \u001b[1m13s\u001b[0m 63ms/step\n"
     ]
    },
    {
     "data": {
      "image/png": "[encoded data removed]",
      "text/plain": [
       "<Figure size 1000x600 with 1 Axes>"
      ]
     },
     "metadata": {},
     "output_type": "display_data"
    }
   ],
   "source": [
    "import matplotlib.pyplot as plt\n",
    "from sklearn.metrics import roc_auc_score\n",
    "import pandas as pd\n",
    "\n",
    "# ploting loss \n",
    "plt.plot(history.history['loss'])\n",
    "plt.plot(history.history['val_loss'])\n",
    "plt.title('Model loss')\n",
    "plt.ylabel('Loss')\n",
    "plt.xlabel('Epoch')\n",
    "plt.legend(['Train', 'Validation'], loc='upper left')\n",
    "plt.show()\n",
    "\n",
    "#AUC-ROC\n",
    "y_true = np.concatenate([y for x, y in validation_set], axis=0)\n",
    "y_pred = model.predict(validation_set)\n",
    "\n",
    "auc_scores = []\n",
    "for i in range(y_true.shape[1]):\n",
    "    auc = roc_auc_score(y_true[:, i], y_pred[:, i])\n",
    "    auc_scores.append(auc)\n",
    "    \n",
    "class_names = list(range(y_true.shape[1])) \n",
    "df_auc = pd.DataFrame({'Class': class_names, 'AUC': auc_scores})\n",
    "plt.figure(figsize=(10, 6))\n",
    "plt.bar(df_auc['Class'], df_auc['AUC'], color='skyblue')\n",
    "plt.xlabel('Class')\n",
    "plt.ylabel('AUC')\n",
    "plt.title('AUC for each class')\n",
    "plt.xticks(class_names)\n",
    "plt.show()"
   ]
  },
  {
   "cell_type": "code",
   "execution_count": 12,
   "id": "0b223dde",
   "metadata": {
    "execution": {
     "iopub.execute_input": "2024-04-07T22:05:39.929200Z",
     "iopub.status.busy": "2024-04-07T22:05:39.928519Z",
     "iopub.status.idle": "2024-04-07T22:45:34.633522Z",
     "shell.execute_reply": "2024-04-07T22:45:34.632778Z"
    },
    "papermill": {
     "duration": 2395.43617,
     "end_time": "2024-04-07T22:45:34.636027",
     "exception": false,
     "start_time": "2024-04-07T22:05:39.199857",
     "status": "completed"
    },
    "tags": []
   },
   "outputs": [
    {
     "name": "stdout",
     "output_type": "stream",
     "text": [
      "Epoch 1/10\n",
      "\u001b[1m809/809\u001b[0m \u001b[32m━━━━━━━━━━━━━━━━━━━━\u001b[0m\u001b[37m\u001b[0m \u001b[1m258s\u001b[0m 306ms/step - accuracy: 0.8310 - auc: 0.9924 - loss: 1.2430 - val_accuracy: 0.8414 - val_auc: 0.9926 - val_loss: 1.2124\n",
      "Epoch 2/10\n",
      "\u001b[1m809/809\u001b[0m \u001b[32m━━━━━━━━━━━━━━━━━━━━\u001b[0m\u001b[37m\u001b[0m \u001b[1m239s\u001b[0m 295ms/step - accuracy: 0.8362 - auc: 0.9922 - loss: 1.2112 - val_accuracy: 0.8315 - val_auc: 0.9903 - val_loss: 1.2353\n",
      "Epoch 3/10\n",
      "\u001b[1m809/809\u001b[0m \u001b[32m━━━━━━━━━━━━━━━━━━━━\u001b[0m\u001b[37m\u001b[0m \u001b[1m239s\u001b[0m 295ms/step - accuracy: 0.8561 - auc: 0.9935 - loss: 1.1244 - val_accuracy: 0.7542 - val_auc: 0.9762 - val_loss: 1.5347\n",
      "Epoch 4/10\n",
      "\u001b[1m809/809\u001b[0m \u001b[32m━━━━━━━━━━━━━━━━━━━━\u001b[0m\u001b[37m\u001b[0m \u001b[1m238s\u001b[0m 294ms/step - accuracy: 0.8590 - auc: 0.9938 - loss: 1.1277 - val_accuracy: 0.8414 - val_auc: 0.9883 - val_loss: 1.1866\n",
      "Epoch 5/10\n",
      "\u001b[1m809/809\u001b[0m \u001b[32m━━━━━━━━━━━━━━━━━━━━\u001b[0m\u001b[37m\u001b[0m \u001b[1m238s\u001b[0m 294ms/step - accuracy: 0.8551 - auc: 0.9942 - loss: 1.1023 - val_accuracy: 0.8194 - val_auc: 0.9876 - val_loss: 1.2399\n",
      "Epoch 6/10\n",
      "\u001b[1m809/809\u001b[0m \u001b[32m━━━━━━━━━━━━━━━━━━━━\u001b[0m\u001b[37m\u001b[0m \u001b[1m237s\u001b[0m 293ms/step - accuracy: 0.8611 - auc: 0.9931 - loss: 1.0932 - val_accuracy: 0.8457 - val_auc: 0.9902 - val_loss: 1.1569\n",
      "Epoch 7/10\n",
      "\u001b[1m809/809\u001b[0m \u001b[32m━━━━━━━━━━━━━━━━━━━━\u001b[0m\u001b[37m\u001b[0m \u001b[1m237s\u001b[0m 293ms/step - accuracy: 0.8702 - auc: 0.9945 - loss: 1.0342 - val_accuracy: 0.8370 - val_auc: 0.9892 - val_loss: 1.1710\n",
      "Epoch 8/10\n",
      "\u001b[1m809/809\u001b[0m \u001b[32m━━━━━━━━━━━━━━━━━━━━\u001b[0m\u001b[37m\u001b[0m \u001b[1m237s\u001b[0m 292ms/step - accuracy: 0.8627 - auc: 0.9942 - loss: 1.0457 - val_accuracy: 0.8197 - val_auc: 0.9844 - val_loss: 1.2497\n",
      "Epoch 9/10\n",
      "\u001b[1m809/809\u001b[0m \u001b[32m━━━━━━━━━━━━━━━━━━━━\u001b[0m\u001b[37m\u001b[0m \u001b[1m236s\u001b[0m 292ms/step - accuracy: 0.8724 - auc: 0.9949 - loss: 1.0228 - val_accuracy: 0.8210 - val_auc: 0.9878 - val_loss: 1.2138\n",
      "Epoch 10/10\n",
      "\u001b[1m809/809\u001b[0m \u001b[32m━━━━━━━━━━━━━━━━━━━━\u001b[0m\u001b[37m\u001b[0m \u001b[1m236s\u001b[0m 291ms/step - accuracy: 0.8726 - auc: 0.9945 - loss: 1.0250 - val_accuracy: 0.8191 - val_auc: 0.9862 - val_loss: 1.2218\n"
     ]
    }
   ],
   "source": [
    "load_save_model = load_model('/kaggle/working/model_checkpoint.keras', custom_objects=None, compile=True, safe_mode=True)\n",
    "history = load_save_model.fit(train_set, epochs=10, validation_data=validation_set)"
   ]
  }
 ],
 "metadata": {
  "accelerator": "TPU",
  "colab": {
   "gpuType": "V28",
   "provenance": []
  },
  "kaggle": {
   "accelerator": "nvidiaTeslaT4",
   "dataSources": [
    {
     "datasetId": 622290,
     "sourceId": 1110281,
     "sourceType": "datasetVersion"
    }
   ],
   "dockerImageVersionId": 30674,
   "isGpuEnabled": true,
   "isInternetEnabled": true,
   "language": "python",
   "sourceType": "notebook"
  },
  "kernelspec": {
   "display_name": "Python 3",
   "language": "python",
   "name": "python3"
  },
  "language_info": {
   "codemirror_mode": {
    "name": "ipython",
    "version": 3
   },
   "file_extension": ".py",
   "mimetype": "text/x-python",
   "name": "python",
   "nbconvert_exporter": "python",
   "pygments_lexer": "ipython3",
   "version": "3.10.13"
  },
  "papermill": {
   "default_parameters": {},
   "duration": 4959.717465,
   "end_time": "2024-04-07T22:45:38.740438",
   "environment_variables": {},
   "exception": null,
   "input_path": "__notebook__.ipynb",
   "output_path": "__notebook__.ipynb",
   "parameters": {},
   "start_time": "2024-04-07T21:22:59.022973",
   "version": "2.5.0"
  }
 },
 "nbformat": 4,
 "nbformat_minor": 5
}
