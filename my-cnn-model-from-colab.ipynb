{
 "cells": [
  {
   "cell_type": "code",
   "execution_count": 1,
   "id": "bfe2db9a",
   "metadata": {
    "execution": {
     "iopub.execute_input": "2024-04-07T20:27:22.384155Z",
     "iopub.status.busy": "2024-04-07T20:27:22.383443Z",
     "iopub.status.idle": "2024-04-07T20:27:22.394309Z",
     "shell.execute_reply": "2024-04-07T20:27:22.393754Z"
    },
    "id": "JISz4KuSd2Jm",
    "papermill": {
     "duration": 0.019641,
     "end_time": "2024-04-07T20:27:22.396235",
     "exception": false,
     "start_time": "2024-04-07T20:27:22.376594",
     "status": "completed"
    },
    "tags": []
   },
   "outputs": [],
   "source": [
    "import warnings\n",
    "import sys\n",
    "warnings.filterwarnings(\"ignore\", message=\"Trying algorithm eng36\")\n",
    "sys.stderr = open('/dev/null', 'w') if sys.platform.startswith('linux') or sys.platform.startswith('darwin') else open('nul', 'w')"
   ]
  },
  {
   "cell_type": "markdown",
   "id": "c005ef5d",
   "metadata": {
    "papermill": {
     "duration": 0.005249,
     "end_time": "2024-04-07T20:27:22.406869",
     "exception": false,
     "start_time": "2024-04-07T20:27:22.401620",
     "status": "completed"
    },
    "tags": []
   },
   "source": [
    "Warning block 👆"
   ]
  },
  {
   "cell_type": "code",
   "execution_count": 2,
   "id": "e774ecd9",
   "metadata": {
    "execution": {
     "iopub.execute_input": "2024-04-07T20:27:22.418057Z",
     "iopub.status.busy": "2024-04-07T20:27:22.417801Z",
     "iopub.status.idle": "2024-04-07T20:27:42.270431Z",
     "shell.execute_reply": "2024-04-07T20:27:42.269698Z"
    },
    "papermill": {
     "duration": 19.860848,
     "end_time": "2024-04-07T20:27:42.272802",
     "exception": false,
     "start_time": "2024-04-07T20:27:22.411954",
     "status": "completed"
    },
    "tags": []
   },
   "outputs": [],
   "source": [
    "import tensorflow as tf\n",
    "from tensorflow.keras import layers, models, regularizers\n",
    "from tensorflow.keras.preprocessing.image import ImageDataGenerator\n",
    "from tensorflow.keras.utils import image_dataset_from_directory\n",
    "from tensorflow.keras.saving import load_model\n",
    "import numpy as np\n",
    "from keras.callbacks import ModelCheckpoint"
   ]
  },
  {
   "cell_type": "code",
   "execution_count": 3,
   "id": "620f74d7",
   "metadata": {
    "execution": {
     "iopub.execute_input": "2024-04-07T20:27:42.293170Z",
     "iopub.status.busy": "2024-04-07T20:27:42.292294Z",
     "iopub.status.idle": "2024-04-07T20:27:42.296310Z",
     "shell.execute_reply": "2024-04-07T20:27:42.295625Z"
    },
    "id": "Z8gEUXKzDcxH",
    "papermill": {
     "duration": 0.015959,
     "end_time": "2024-04-07T20:27:42.298330",
     "exception": false,
     "start_time": "2024-04-07T20:27:42.282371",
     "status": "completed"
    },
    "tags": []
   },
   "outputs": [],
   "source": [
    "data_dir = '/kaggle/input/apparel-dataset'"
   ]
  },
  {
   "cell_type": "markdown",
   "id": "641850cd",
   "metadata": {
    "papermill": {
     "duration": 0.005352,
     "end_time": "2024-04-07T20:27:42.309445",
     "exception": false,
     "start_time": "2024-04-07T20:27:42.304093",
     "status": "completed"
    },
    "tags": []
   },
   "source": [
    "#### directory names"
   ]
  },
  {
   "cell_type": "code",
   "execution_count": 4,
   "id": "ae2186ae",
   "metadata": {
    "execution": {
     "iopub.execute_input": "2024-04-07T20:27:42.321059Z",
     "iopub.status.busy": "2024-04-07T20:27:42.320817Z",
     "iopub.status.idle": "2024-04-07T20:27:46.955955Z",
     "shell.execute_reply": "2024-04-07T20:27:46.955327Z"
    },
    "id": "0tVZ-V3ANS21",
    "outputId": "1c96b4ef-d8fc-4c6b-c410-6eeeb61cb435",
    "papermill": {
     "duration": 4.643506,
     "end_time": "2024-04-07T20:27:46.958250",
     "exception": false,
     "start_time": "2024-04-07T20:27:42.314744",
     "status": "completed"
    },
    "tags": []
   },
   "outputs": [
    {
     "name": "stdout",
     "output_type": "stream",
     "text": [
      "yellow_skirt/\n",
      "white_pants/\n",
      "white_suit/\n",
      "black_pants/\n",
      "white_shoes/\n",
      "pink_hoodie/\n",
      "brown_shoes/\n",
      "blue_shirt/\n",
      "green_shoes/\n",
      "blue_pants/\n",
      "white_shorts/\n",
      "red_pants/\n",
      "blue_shoes/\n",
      "black_dress/\n",
      "red_shirt/\n",
      "red_hoodie/\n",
      "green_pants/\n",
      "black_shorts/\n",
      "black_suit/\n",
      "red_shoes/\n",
      "yellow_dress/\n",
      "pink_pants/\n",
      "yellow_shorts/\n",
      "blue_dress/\n",
      "black_shirt/\n",
      "red_dress/\n",
      "green_shirt/\n",
      "brown_hoodie/\n",
      "silver_shoes/\n",
      "white_dress/\n",
      "pink_skirt/\n",
      "green_shorts/\n",
      "silver_skirt/\n",
      "green_suit/\n",
      "blue_shorts/\n",
      "brown_pants/\n",
      "black_shoes/\n"
     ]
    }
   ],
   "source": [
    "import os\n",
    "\n",
    "\n",
    "# Function to print directory tree recursively\n",
    "def print_directory_tree(directory, indent=''):\n",
    "    for item in os.listdir(directory):\n",
    "        full_path = os.path.join(directory, item)\n",
    "        if os.path.isdir(full_path):\n",
    "            print(indent + item + '/')\n",
    "            print_directory_tree(full_path, indent + '    ')\n",
    "\n",
    "# Print the directory tree\n",
    "print_directory_tree(data_dir)"
   ]
  },
  {
   "cell_type": "markdown",
   "id": "ad56313d",
   "metadata": {
    "papermill": {
     "duration": 0.007121,
     "end_time": "2024-04-07T20:27:46.972452",
     "exception": false,
     "start_time": "2024-04-07T20:27:46.965331",
     "status": "completed"
    },
    "tags": []
   },
   "source": [
    "### Data preprocess"
   ]
  },
  {
   "cell_type": "code",
   "execution_count": 5,
   "id": "a0e338fe",
   "metadata": {
    "execution": {
     "iopub.execute_input": "2024-04-07T20:27:46.987975Z",
     "iopub.status.busy": "2024-04-07T20:27:46.987633Z",
     "iopub.status.idle": "2024-04-07T20:27:54.824490Z",
     "shell.execute_reply": "2024-04-07T20:27:54.823875Z"
    },
    "id": "zdZ6pheogRnH",
    "outputId": "149c8838-056f-4d07-9dae-99616502e5dc",
    "papermill": {
     "duration": 7.847246,
     "end_time": "2024-04-07T20:27:54.826755",
     "exception": false,
     "start_time": "2024-04-07T20:27:46.979509",
     "status": "completed"
    },
    "tags": []
   },
   "outputs": [
    {
     "name": "stdout",
     "output_type": "stream",
     "text": [
      "Found 16170 files belonging to 37 classes.\n",
      "Using 12936 files for training.\n",
      "Using 3234 files for validation.\n"
     ]
    }
   ],
   "source": [
    "dataset_apparel = image_dataset_from_directory(\n",
    "    directory = data_dir,\n",
    "    labels=\"inferred\",\n",
    "    label_mode=\"categorical\",\n",
    "    color_mode=\"rgb\",\n",
    "    batch_size=16,\n",
    "    image_size=(224, 224),\n",
    "    shuffle=True,\n",
    "    seed=42,\n",
    "    validation_split=0.2,\n",
    "    subset='both',#if subset = both it returns train and validation set respectively\n",
    ")"
   ]
  },
  {
   "cell_type": "code",
   "execution_count": 6,
   "id": "edfd4bda",
   "metadata": {
    "execution": {
     "iopub.execute_input": "2024-04-07T20:27:54.841943Z",
     "iopub.status.busy": "2024-04-07T20:27:54.841643Z",
     "iopub.status.idle": "2024-04-07T20:27:54.845512Z",
     "shell.execute_reply": "2024-04-07T20:27:54.844874Z"
    },
    "id": "fBpczS6pYIIw",
    "outputId": "f82b1427-1ada-405c-8907-c89acb0b6a09",
    "papermill": {
     "duration": 0.014201,
     "end_time": "2024-04-07T20:27:54.848072",
     "exception": false,
     "start_time": "2024-04-07T20:27:54.833871",
     "status": "completed"
    },
    "tags": []
   },
   "outputs": [
    {
     "name": "stdout",
     "output_type": "stream",
     "text": [
      "<_PrefetchDataset element_spec=(TensorSpec(shape=(None, 224, 224, 3), dtype=tf.float32, name=None), TensorSpec(shape=(None, 37), dtype=tf.float32, name=None))>\n",
      "<_PrefetchDataset element_spec=(TensorSpec(shape=(None, 224, 224, 3), dtype=tf.float32, name=None), TensorSpec(shape=(None, 37), dtype=tf.float32, name=None))>\n"
     ]
    }
   ],
   "source": [
    "for labels in dataset_apparel:\n",
    "  print(labels)"
   ]
  },
  {
   "cell_type": "code",
   "execution_count": 7,
   "id": "f9eb15fd",
   "metadata": {
    "execution": {
     "iopub.execute_input": "2024-04-07T20:27:54.864059Z",
     "iopub.status.busy": "2024-04-07T20:27:54.863781Z",
     "iopub.status.idle": "2024-04-07T20:27:54.867450Z",
     "shell.execute_reply": "2024-04-07T20:27:54.866751Z"
    },
    "id": "ax2Euf4PRZWr",
    "papermill": {
     "duration": 0.013535,
     "end_time": "2024-04-07T20:27:54.869338",
     "exception": false,
     "start_time": "2024-04-07T20:27:54.855803",
     "status": "completed"
    },
    "tags": []
   },
   "outputs": [],
   "source": [
    "train_set, validation_set = dataset_apparel"
   ]
  },
  {
   "cell_type": "markdown",
   "id": "372fb6aa",
   "metadata": {
    "papermill": {
     "duration": 0.007115,
     "end_time": "2024-04-07T20:27:54.883714",
     "exception": false,
     "start_time": "2024-04-07T20:27:54.876599",
     "status": "completed"
    },
    "tags": []
   },
   "source": [
    "### Model Checkpoint method"
   ]
  },
  {
   "cell_type": "code",
   "execution_count": 8,
   "id": "92313626",
   "metadata": {
    "execution": {
     "iopub.execute_input": "2024-04-07T20:27:54.899096Z",
     "iopub.status.busy": "2024-04-07T20:27:54.898836Z",
     "iopub.status.idle": "2024-04-07T20:27:54.902722Z",
     "shell.execute_reply": "2024-04-07T20:27:54.902017Z"
    },
    "papermill": {
     "duration": 0.013836,
     "end_time": "2024-04-07T20:27:54.904763",
     "exception": false,
     "start_time": "2024-04-07T20:27:54.890927",
     "status": "completed"
    },
    "tags": []
   },
   "outputs": [],
   "source": [
    "checkpoint_path = '/kaggle/working/model_checkpoint.keras'\n",
    "model_checkpoint_callback = ModelCheckpoint(\n",
    "    filepath=checkpoint_path,\n",
    "    save_weights_only=False,\n",
    "    monitor='val_accuracy',\n",
    "    mode='auto',\n",
    "    save_best_only=True,\n",
    "    verbose=1)"
   ]
  },
  {
   "cell_type": "markdown",
   "id": "a074b82c",
   "metadata": {
    "papermill": {
     "duration": 0.00707,
     "end_time": "2024-04-07T20:27:54.918979",
     "exception": false,
     "start_time": "2024-04-07T20:27:54.911909",
     "status": "completed"
    },
    "tags": []
   },
   "source": [
    "### Built Model"
   ]
  },
  {
   "cell_type": "code",
   "execution_count": 9,
   "id": "587c28fa",
   "metadata": {
    "execution": {
     "iopub.execute_input": "2024-04-07T20:27:54.934291Z",
     "iopub.status.busy": "2024-04-07T20:27:54.933759Z",
     "iopub.status.idle": "2024-04-07T20:27:55.115654Z",
     "shell.execute_reply": "2024-04-07T20:27:55.115039Z"
    },
    "id": "7N5nj5-dRXZX",
    "papermill": {
     "duration": 0.191987,
     "end_time": "2024-04-07T20:27:55.117983",
     "exception": false,
     "start_time": "2024-04-07T20:27:54.925996",
     "status": "completed"
    },
    "tags": []
   },
   "outputs": [],
   "source": [
    "model = models.Sequential([\n",
    "    layers.Input(shape=(224, 224, 3)),\n",
    "    \n",
    "    layers.Conv2D(512, (3, 3), activation='relu',kernel_regularizer=regularizers.l2(0.001)),\n",
    "    layers.BatchNormalization(),\n",
    "    layers.MaxPooling2D((2, 2)),\n",
    "    layers.Dropout(0.2), \n",
    "    \n",
    "    layers.Conv2D(256, (3, 3), activation='relu', kernel_regularizer=regularizers.l2(0.001)),\n",
    "    layers.BatchNormalization(),\n",
    "    layers.MaxPooling2D((2, 2)),\n",
    "    layers.Dropout(0.2),\n",
    "    \n",
    "    layers.Conv2D(128, (3, 3), activation='relu', kernel_regularizer=regularizers.l2(0.001)),\n",
    "    layers.BatchNormalization(),\n",
    "    layers.MaxPooling2D((2, 2)),\n",
    "    layers.Dropout(0.2),\n",
    "    \n",
    "    layers.Conv2D(128, (3, 3), activation='relu', kernel_regularizer=regularizers.l2(0.001)),\n",
    "    layers.BatchNormalization(),\n",
    "    layers.MaxPooling2D((2, 2)),\n",
    "    \n",
    "    layers.Flatten(),\n",
    "    layers.Dense(64, activation='relu', kernel_regularizer=regularizers.l2(0.001)),\n",
    "    layers.BatchNormalization(),\n",
    "    layers.Dropout(0.3),\n",
    "    layers.Dense(37, activation='softmax')\n",
    "])\n",
    "\n",
    "model.compile(optimizer='adam',\n",
    "              loss='categorical_crossentropy',#multilabel classification\n",
    "              metrics=['accuracy','auc'])"
   ]
  },
  {
   "cell_type": "markdown",
   "id": "7bc69438",
   "metadata": {
    "papermill": {
     "duration": 0.00721,
     "end_time": "2024-04-07T20:27:55.133238",
     "exception": false,
     "start_time": "2024-04-07T20:27:55.126028",
     "status": "completed"
    },
    "tags": []
   },
   "source": [
    "### Run Model"
   ]
  },
  {
   "cell_type": "code",
   "execution_count": 10,
   "id": "502940fc",
   "metadata": {
    "execution": {
     "iopub.execute_input": "2024-04-07T20:27:55.149221Z",
     "iopub.status.busy": "2024-04-07T20:27:55.148678Z",
     "iopub.status.idle": "2024-04-07T21:12:50.849089Z",
     "shell.execute_reply": "2024-04-07T21:12:50.848456Z"
    },
    "id": "hVrjgboxCVM5",
    "outputId": "fb01d614-51e9-412f-a634-45bdcb512d78",
    "papermill": {
     "duration": 2695.710834,
     "end_time": "2024-04-07T21:12:50.851341",
     "exception": false,
     "start_time": "2024-04-07T20:27:55.140507",
     "status": "completed"
    },
    "tags": []
   },
   "outputs": [
    {
     "name": "stdout",
     "output_type": "stream",
     "text": [
      "Epoch 1/10\n",
      "\u001b[1m809/809\u001b[0m \u001b[32m━━━━━━━━━━━━━━━━━━━━\u001b[0m\u001b[37m\u001b[0m \u001b[1m0s\u001b[0m 348ms/step - accuracy: 0.4182 - auc: 0.8876 - loss: 2.9918\n",
      "Epoch 1: val_accuracy improved from -inf to 0.61503, saving model to /kaggle/working/model_checkpoint.keras\n",
      "\u001b[1m809/809\u001b[0m \u001b[32m━━━━━━━━━━━━━━━━━━━━\u001b[0m\u001b[37m\u001b[0m \u001b[1m363s\u001b[0m 373ms/step - accuracy: 0.4184 - auc: 0.8876 - loss: 2.9911 - val_accuracy: 0.6150 - val_auc: 0.9674 - val_loss: 1.9776\n",
      "Epoch 2/10\n",
      "\u001b[1m809/809\u001b[0m \u001b[32m━━━━━━━━━━━━━━━━━━━━\u001b[0m\u001b[37m\u001b[0m \u001b[1m0s\u001b[0m 302ms/step - accuracy: 0.6700 - auc: 0.9745 - loss: 1.7246\n",
      "Epoch 2: val_accuracy did not improve from 0.61503\n",
      "\u001b[1m809/809\u001b[0m \u001b[32m━━━━━━━━━━━━━━━━━━━━\u001b[0m\u001b[37m\u001b[0m \u001b[1m258s\u001b[0m 319ms/step - accuracy: 0.6700 - auc: 0.9745 - loss: 1.7245 - val_accuracy: 0.5442 - val_auc: 0.9554 - val_loss: 2.0766\n",
      "Epoch 3/10\n",
      "\u001b[1m809/809\u001b[0m \u001b[32m━━━━━━━━━━━━━━━━━━━━\u001b[0m\u001b[37m\u001b[0m \u001b[1m0s\u001b[0m 301ms/step - accuracy: 0.7142 - auc: 0.9829 - loss: 1.4876\n",
      "Epoch 3: val_accuracy did not improve from 0.61503\n",
      "\u001b[1m809/809\u001b[0m \u001b[32m━━━━━━━━━━━━━━━━━━━━\u001b[0m\u001b[37m\u001b[0m \u001b[1m257s\u001b[0m 317ms/step - accuracy: 0.7143 - auc: 0.9829 - loss: 1.4876 - val_accuracy: 0.5881 - val_auc: 0.9610 - val_loss: 2.0173\n",
      "Epoch 4/10\n",
      "\u001b[1m809/809\u001b[0m \u001b[32m━━━━━━━━━━━━━━━━━━━━\u001b[0m\u001b[37m\u001b[0m \u001b[1m0s\u001b[0m 300ms/step - accuracy: 0.7343 - auc: 0.9820 - loss: 1.4800\n",
      "Epoch 4: val_accuracy improved from 0.61503 to 0.76098, saving model to /kaggle/working/model_checkpoint.keras\n",
      "\u001b[1m809/809\u001b[0m \u001b[32m━━━━━━━━━━━━━━━━━━━━\u001b[0m\u001b[37m\u001b[0m \u001b[1m256s\u001b[0m 317ms/step - accuracy: 0.7343 - auc: 0.9820 - loss: 1.4800 - val_accuracy: 0.7610 - val_auc: 0.9892 - val_loss: 1.4082\n",
      "Epoch 5/10\n",
      "\u001b[1m809/809\u001b[0m \u001b[32m━━━━━━━━━━━━━━━━━━━━\u001b[0m\u001b[37m\u001b[0m \u001b[1m0s\u001b[0m 300ms/step - accuracy: 0.7630 - auc: 0.9859 - loss: 1.4237\n",
      "Epoch 5: val_accuracy did not improve from 0.76098\n",
      "\u001b[1m809/809\u001b[0m \u001b[32m━━━━━━━━━━━━━━━━━━━━\u001b[0m\u001b[37m\u001b[0m \u001b[1m256s\u001b[0m 317ms/step - accuracy: 0.7630 - auc: 0.9859 - loss: 1.4237 - val_accuracy: 0.7165 - val_auc: 0.9822 - val_loss: 1.6007\n",
      "Epoch 6/10\n",
      "\u001b[1m809/809\u001b[0m \u001b[32m━━━━━━━━━━━━━━━━━━━━\u001b[0m\u001b[37m\u001b[0m \u001b[1m0s\u001b[0m 300ms/step - accuracy: 0.7695 - auc: 0.9865 - loss: 1.4317\n",
      "Epoch 6: val_accuracy did not improve from 0.76098\n",
      "\u001b[1m809/809\u001b[0m \u001b[32m━━━━━━━━━━━━━━━━━━━━\u001b[0m\u001b[37m\u001b[0m \u001b[1m256s\u001b[0m 317ms/step - accuracy: 0.7695 - auc: 0.9865 - loss: 1.4317 - val_accuracy: 0.7229 - val_auc: 0.9869 - val_loss: 1.6296\n",
      "Epoch 7/10\n",
      "\u001b[1m809/809\u001b[0m \u001b[32m━━━━━━━━━━━━━━━━━━━━\u001b[0m\u001b[37m\u001b[0m \u001b[1m0s\u001b[0m 301ms/step - accuracy: 0.7804 - auc: 0.9869 - loss: 1.4333\n",
      "Epoch 7: val_accuracy improved from 0.76098 to 0.82220, saving model to /kaggle/working/model_checkpoint.keras\n",
      "\u001b[1m809/809\u001b[0m \u001b[32m━━━━━━━━━━━━━━━━━━━━\u001b[0m\u001b[37m\u001b[0m \u001b[1m257s\u001b[0m 318ms/step - accuracy: 0.7804 - auc: 0.9869 - loss: 1.4332 - val_accuracy: 0.8222 - val_auc: 0.9930 - val_loss: 1.3102\n",
      "Epoch 8/10\n",
      "\u001b[1m809/809\u001b[0m \u001b[32m━━━━━━━━━━━━━━━━━━━━\u001b[0m\u001b[37m\u001b[0m \u001b[1m0s\u001b[0m 300ms/step - accuracy: 0.7968 - auc: 0.9891 - loss: 1.3786\n",
      "Epoch 8: val_accuracy did not improve from 0.82220\n",
      "\u001b[1m809/809\u001b[0m \u001b[32m━━━━━━━━━━━━━━━━━━━━\u001b[0m\u001b[37m\u001b[0m \u001b[1m263s\u001b[0m 325ms/step - accuracy: 0.7968 - auc: 0.9891 - loss: 1.3786 - val_accuracy: 0.7786 - val_auc: 0.9863 - val_loss: 1.4540\n",
      "Epoch 9/10\n",
      "\u001b[1m809/809\u001b[0m \u001b[32m━━━━━━━━━━━━━━━━━━━━\u001b[0m\u001b[37m\u001b[0m \u001b[1m0s\u001b[0m 301ms/step - accuracy: 0.8162 - auc: 0.9907 - loss: 1.2751\n",
      "Epoch 9: val_accuracy did not improve from 0.82220\n",
      "\u001b[1m809/809\u001b[0m \u001b[32m━━━━━━━━━━━━━━━━━━━━\u001b[0m\u001b[37m\u001b[0m \u001b[1m257s\u001b[0m 318ms/step - accuracy: 0.8162 - auc: 0.9907 - loss: 1.2751 - val_accuracy: 0.4957 - val_auc: 0.9276 - val_loss: 2.7116\n",
      "Epoch 10/10\n",
      "\u001b[1m809/809\u001b[0m \u001b[32m━━━━━━━━━━━━━━━━━━━━\u001b[0m\u001b[37m\u001b[0m \u001b[1m0s\u001b[0m 301ms/step - accuracy: 0.7987 - auc: 0.9894 - loss: 1.4044\n",
      "Epoch 10: val_accuracy improved from 0.82220 to 0.82900, saving model to /kaggle/working/model_checkpoint.keras\n",
      "\u001b[1m809/809\u001b[0m \u001b[32m━━━━━━━━━━━━━━━━━━━━\u001b[0m\u001b[37m\u001b[0m \u001b[1m257s\u001b[0m 318ms/step - accuracy: 0.7987 - auc: 0.9894 - loss: 1.4043 - val_accuracy: 0.8290 - val_auc: 0.9919 - val_loss: 1.2438\n",
      "------------*************------------\n",
      "\u001b[1m203/203\u001b[0m \u001b[32m━━━━━━━━━━━━━━━━━━━━\u001b[0m\u001b[37m\u001b[0m \u001b[1m14s\u001b[0m 68ms/step - accuracy: 0.8222 - auc: 0.9918 - loss: 1.2566\n",
      "Test accuracy: 0.8290043473243713\n"
     ]
    }
   ],
   "source": [
    "history = model.fit(train_set, epochs=10, validation_data=validation_set, callbacks=[model_checkpoint_callback])\n",
    "\n",
    "print(\"------------*************------------\")\n",
    "test_loss, test_acc, test_auc = model.evaluate(validation_set)\n",
    "print(f\"Test accuracy: {test_acc}\")"
   ]
  },
  {
   "cell_type": "markdown",
   "id": "14df66f4",
   "metadata": {
    "papermill": {
     "duration": 0.691937,
     "end_time": "2024-04-07T21:12:52.236322",
     "exception": false,
     "start_time": "2024-04-07T21:12:51.544385",
     "status": "completed"
    },
    "tags": []
   },
   "source": [
    "### Plot performance graph"
   ]
  },
  {
   "cell_type": "code",
   "execution_count": 11,
   "id": "2460836c",
   "metadata": {
    "execution": {
     "iopub.execute_input": "2024-04-07T21:12:53.691297Z",
     "iopub.status.busy": "2024-04-07T21:12:53.690917Z",
     "iopub.status.idle": "2024-04-07T21:13:12.975362Z",
     "shell.execute_reply": "2024-04-07T21:13:12.974630Z"
    },
    "id": "9wOngQhSSsKv",
    "papermill": {
     "duration": 19.983484,
     "end_time": "2024-04-07T21:13:12.977670",
     "exception": false,
     "start_time": "2024-04-07T21:12:52.994186",
     "status": "completed"
    },
    "tags": []
   },
   "outputs": [
    {
     "data": {
      "image/png": "[encoded data removed]",
      "text/plain": [
       "<Figure size 640x480 with 1 Axes>"
      ]
     },
     "metadata": {},
     "output_type": "display_data"
    },
    {
     "name": "stdout",
     "output_type": "stream",
     "text": [
      "\u001b[1m203/203\u001b[0m \u001b[32m━━━━━━━━━━━━━━━━━━━━\u001b[0m\u001b[37m\u001b[0m \u001b[1m14s\u001b[0m 68ms/step\n"
     ]
    },
    {
     "data": {
      "image/png": "[encoded data removed]",
      "text/plain": [
       "<Figure size 1000x600 with 1 Axes>"
      ]
     },
     "metadata": {},
     "output_type": "display_data"
    }
   ],
   "source": [
    "import matplotlib.pyplot as plt\n",
    "from sklearn.metrics import roc_auc_score\n",
    "import pandas as pd\n",
    "\n",
    "# ploting loss \n",
    "plt.plot(history.history['loss'])\n",
    "plt.plot(history.history['val_loss'])\n",
    "plt.title('Model loss')\n",
    "plt.ylabel('Loss')\n",
    "plt.xlabel('Epoch')\n",
    "plt.legend(['Train', 'Validation'], loc='upper left')\n",
    "plt.show()\n",
    "\n",
    "#AUC-ROC\n",
    "y_true = np.concatenate([y for x, y in validation_set], axis=0)\n",
    "y_pred = model.predict(validation_set)\n",
    "\n",
    "auc_scores = []\n",
    "for i in range(y_true.shape[1]):\n",
    "    auc = roc_auc_score(y_true[:, i], y_pred[:, i])\n",
    "    auc_scores.append(auc)\n",
    "    \n",
    "class_names = list(range(y_true.shape[1])) \n",
    "df_auc = pd.DataFrame({'Class': class_names, 'AUC': auc_scores})\n",
    "plt.figure(figsize=(10, 6))\n",
    "plt.bar(df_auc['Class'], df_auc['AUC'], color='skyblue')\n",
    "plt.xlabel('Class')\n",
    "plt.ylabel('AUC')\n",
    "plt.title('AUC for each class')\n",
    "plt.xticks(class_names)\n",
    "plt.show()"
   ]
  },
  {
   "cell_type": "code",
   "execution_count": 12,
   "id": "256a3240",
   "metadata": {
    "execution": {
     "iopub.execute_input": "2024-04-07T21:13:14.451081Z",
     "iopub.status.busy": "2024-04-07T21:13:14.450458Z",
     "iopub.status.idle": "2024-04-07T21:13:15.291459Z",
     "shell.execute_reply": "2024-04-07T21:13:15.290794Z"
    },
    "papermill": {
     "duration": 1.601468,
     "end_time": "2024-04-07T21:13:15.293772",
     "exception": false,
     "start_time": "2024-04-07T21:13:13.692304",
     "status": "completed"
    },
    "tags": []
   },
   "outputs": [],
   "source": [
    "load_save_model = load_model('/kaggle/working/model_checkpoint.keras', custom_objects=None, compile=True, safe_mode=True)"
   ]
  }
 ],
 "metadata": {
  "accelerator": "TPU",
  "colab": {
   "gpuType": "V28",
   "provenance": []
  },
  "kaggle": {
   "accelerator": "nvidiaTeslaT4",
   "dataSources": [
    {
     "datasetId": 622290,
     "sourceId": 1110281,
     "sourceType": "datasetVersion"
    }
   ],
   "dockerImageVersionId": 30674,
   "isGpuEnabled": true,
   "isInternetEnabled": true,
   "language": "python",
   "sourceType": "notebook"
  },
  "kernelspec": {
   "display_name": "Python 3",
   "language": "python",
   "name": "python3"
  },
  "language_info": {
   "codemirror_mode": {
    "name": "ipython",
    "version": 3
   },
   "file_extension": ".py",
   "mimetype": "text/x-python",
   "name": "python",
   "nbconvert_exporter": "python",
   "pygments_lexer": "ipython3",
   "version": "3.10.13"
  },
  "papermill": {
   "default_parameters": {},
   "duration": 2761.385205,
   "end_time": "2024-04-07T21:13:19.753844",
   "environment_variables": {},
   "exception": null,
   "input_path": "__notebook__.ipynb",
   "output_path": "__notebook__.ipynb",
   "parameters": {},
   "start_time": "2024-04-07T20:27:18.368639",
   "version": "2.5.0"
  }
 },
 "nbformat": 4,
 "nbformat_minor": 5
}
